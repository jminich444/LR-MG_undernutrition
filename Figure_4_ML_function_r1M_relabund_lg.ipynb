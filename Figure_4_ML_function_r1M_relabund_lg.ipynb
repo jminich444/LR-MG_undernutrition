{
 "cells": [
  {
   "cell_type": "code",
   "execution_count": 69,
   "id": "dd94fe47",
   "metadata": {},
   "outputs": [],
   "source": [
    "import pandas as pd\n",
    "import numpy as np\n",
    "import seaborn as sns\n",
    "import matplotlib.pyplot as plt\n",
    "\n",
    "from sklearn.ensemble import RandomForestClassifier\n",
    "from sklearn.model_selection import train_test_split\n",
    "from sklearn.metrics import classification_report, confusion_matrix, accuracy_score\n"
   ]
  },
  {
   "cell_type": "code",
   "execution_count": 70,
   "id": "e5380c6f",
   "metadata": {},
   "outputs": [],
   "source": [
    "# Biom table information\n",
    "# samples were processed on the fmh funprofiler database using sourmash \n",
    "# Datasets included: Qiita study ID: 15897 (artifact 18333: PB Hifi seqwell data)\n",
    "    # samples were merged on the basis of sample_name as many of the samples from seqwell were technical duplicates\n",
    "    # note, a total of 24 samples (6 timepoint across 4 participants: 526, 549, 791, and 798 were included as tech reps and are indicated in the sheet as duplicate_tech=1 or 2)\n",
    "# A combined analysis of the two datasets was completed (Qiita Analysis ID: 69861)\n",
    "# Samples were filtered as follows: retain samples with 1 or more features, remove one of the technical duplicates across the sample set to ensure ML isnt artificially inflated based on a tech rep, exclude positive control samples, )\n",
    "\n",
    "# sample sets were rarified with replacement to 1,000,000 (~1Mbp)\n",
    "\n",
    "# Linear growth: 163 total (remove mixed) (0=bad or poor linear growth ==101; 1=good linear growth ==62)"
   ]
  },
  {
   "cell_type": "code",
   "execution_count": 71,
   "id": "b7942c85",
   "metadata": {},
   "outputs": [],
   "source": [
    "#####################################\n",
    "\n",
    "## Evaluate linear growth\n",
    "# relative abundace\n"
   ]
  },
  {
   "cell_type": "code",
   "execution_count": 72,
   "id": "f382c3e1",
   "metadata": {},
   "outputs": [
    {
     "name": "stdout",
     "output_type": "stream",
     "text": [
      "ML_function_r1M_PAV_lg.ipynb\r\n",
      "ML_function_r1M_relabund_lg.ipynb\r\n",
      "r1M.wrep_PAV_func_trans.csv\r\n",
      "r1M.wrep_relabun_func_trans.csv\r\n",
      "r1M.wrepl_func_217028_feature-table.biom\r\n",
      "r1M.wrepl_func_217028_feature-table.biom.txt\r\n",
      "r1M_2_metadata.csv\r\n",
      "r1M_wrep.func_PAV_217037_feature-table.biom\r\n",
      "r1M_wrep.func_PAV_217037_feature-table.biom.txt\r\n",
      "\u001b[34mresults\u001b[m\u001b[m/\r\n"
     ]
    }
   ],
   "source": [
    "ls"
   ]
  },
  {
   "cell_type": "code",
   "execution_count": null,
   "id": "ac11f87c",
   "metadata": {},
   "outputs": [],
   "source": [
    "### PAV (linear growth)\n",
    "## Beta diversity analysis\n",
    "# original biom table needs to be transformed so that samples are rows and features are columns...and the end includes metadata categories\n",
    "# Load microbiome feature data (e.g., OTU table)\n",
    "# <r100M_PAV_216962_taxa_trans.csv> this biom table has metadata at the end of the feature table to enable subsampling\n",
    "# Note, for biom table, ensure sample name is same from mapping file (may need to remove prefix)\n",
    "otu_table_wr = pd.read_csv(\"Table_S22_r1M.wrep_relabun_func_trans.csv\", index_col=0)\n",
    "\n",
    "# Note for metadata, need to 1) change sample_name to sample_id in metadata 2) remove any samples in metadata which are not included in analysis\n",
    "\n",
    "# Load metadata with the target variable\n",
    "metadata4 = pd.read_csv(\"Table_S23_r1M_2_metadata.csv\")\n"
   ]
  },
  {
   "cell_type": "code",
   "execution_count": 55,
   "id": "49dbda8a",
   "metadata": {},
   "outputs": [
    {
     "data": {
      "text/html": [
       "<div>\n",
       "<style scoped>\n",
       "    .dataframe tbody tr th:only-of-type {\n",
       "        vertical-align: middle;\n",
       "    }\n",
       "\n",
       "    .dataframe tbody tr th {\n",
       "        vertical-align: top;\n",
       "    }\n",
       "\n",
       "    .dataframe thead th {\n",
       "        text-align: right;\n",
       "    }\n",
       "</style>\n",
       "<table border=\"1\" class=\"dataframe\">\n",
       "  <thead>\n",
       "    <tr style=\"text-align: right;\">\n",
       "      <th></th>\n",
       "      <th>ko:K00001</th>\n",
       "      <th>ko:K00002</th>\n",
       "      <th>ko:K00003</th>\n",
       "      <th>ko:K00004</th>\n",
       "      <th>ko:K00005</th>\n",
       "      <th>ko:K00008</th>\n",
       "      <th>ko:K00009</th>\n",
       "      <th>ko:K00010</th>\n",
       "      <th>ko:K00012</th>\n",
       "      <th>ko:K00013</th>\n",
       "      <th>...</th>\n",
       "      <th>id</th>\n",
       "      <th>linear_growth</th>\n",
       "      <th>linear_growth_num</th>\n",
       "      <th>site_village</th>\n",
       "      <th>breastfed</th>\n",
       "      <th>breastfed_cat</th>\n",
       "      <th>sex</th>\n",
       "      <th>laz_stunting_cat</th>\n",
       "      <th>laz_stunting_bool</th>\n",
       "      <th>diet_intervention</th>\n",
       "    </tr>\n",
       "    <tr>\n",
       "      <th>sample_id</th>\n",
       "      <th></th>\n",
       "      <th></th>\n",
       "      <th></th>\n",
       "      <th></th>\n",
       "      <th></th>\n",
       "      <th></th>\n",
       "      <th></th>\n",
       "      <th></th>\n",
       "      <th></th>\n",
       "      <th></th>\n",
       "      <th></th>\n",
       "      <th></th>\n",
       "      <th></th>\n",
       "      <th></th>\n",
       "      <th></th>\n",
       "      <th></th>\n",
       "      <th></th>\n",
       "      <th></th>\n",
       "      <th></th>\n",
       "      <th></th>\n",
       "      <th></th>\n",
       "    </tr>\n",
       "  </thead>\n",
       "  <tbody>\n",
       "    <tr>\n",
       "      <th>15897.500.FB00259114.concat</th>\n",
       "      <td>0</td>\n",
       "      <td>0</td>\n",
       "      <td>407</td>\n",
       "      <td>0</td>\n",
       "      <td>409</td>\n",
       "      <td>0</td>\n",
       "      <td>0</td>\n",
       "      <td>0</td>\n",
       "      <td>905</td>\n",
       "      <td>1301</td>\n",
       "      <td>...</td>\n",
       "      <td>15897.500.FB00259114.concat</td>\n",
       "      <td>good</td>\n",
       "      <td>1</td>\n",
       "      <td>Limera</td>\n",
       "      <td>1</td>\n",
       "      <td>yes</td>\n",
       "      <td>Female</td>\n",
       "      <td>stunted</td>\n",
       "      <td>1</td>\n",
       "      <td>cowpea</td>\n",
       "    </tr>\n",
       "    <tr>\n",
       "      <th>15897.500.FB00862515.concat</th>\n",
       "      <td>277</td>\n",
       "      <td>0</td>\n",
       "      <td>258</td>\n",
       "      <td>0</td>\n",
       "      <td>585</td>\n",
       "      <td>0</td>\n",
       "      <td>0</td>\n",
       "      <td>0</td>\n",
       "      <td>542</td>\n",
       "      <td>579</td>\n",
       "      <td>...</td>\n",
       "      <td>15897.500.FB00862515.concat</td>\n",
       "      <td>good</td>\n",
       "      <td>1</td>\n",
       "      <td>Limera</td>\n",
       "      <td>1</td>\n",
       "      <td>yes</td>\n",
       "      <td>Female</td>\n",
       "      <td>stunted</td>\n",
       "      <td>1</td>\n",
       "      <td>cowpea</td>\n",
       "    </tr>\n",
       "    <tr>\n",
       "      <th>15897.500.FB00863502.concat</th>\n",
       "      <td>0</td>\n",
       "      <td>0</td>\n",
       "      <td>1110</td>\n",
       "      <td>0</td>\n",
       "      <td>0</td>\n",
       "      <td>1059</td>\n",
       "      <td>0</td>\n",
       "      <td>0</td>\n",
       "      <td>1032</td>\n",
       "      <td>0</td>\n",
       "      <td>...</td>\n",
       "      <td>15897.500.FB00863502.concat</td>\n",
       "      <td>good</td>\n",
       "      <td>1</td>\n",
       "      <td>Limera</td>\n",
       "      <td>1</td>\n",
       "      <td>yes</td>\n",
       "      <td>Female</td>\n",
       "      <td>stunted</td>\n",
       "      <td>1</td>\n",
       "      <td>cowpea</td>\n",
       "    </tr>\n",
       "    <tr>\n",
       "      <th>15897.500.FB00929809.concat</th>\n",
       "      <td>222</td>\n",
       "      <td>0</td>\n",
       "      <td>926</td>\n",
       "      <td>0</td>\n",
       "      <td>0</td>\n",
       "      <td>0</td>\n",
       "      <td>0</td>\n",
       "      <td>0</td>\n",
       "      <td>636</td>\n",
       "      <td>887</td>\n",
       "      <td>...</td>\n",
       "      <td>15897.500.FB00929809.concat</td>\n",
       "      <td>good</td>\n",
       "      <td>1</td>\n",
       "      <td>Limera</td>\n",
       "      <td>1</td>\n",
       "      <td>yes</td>\n",
       "      <td>Female</td>\n",
       "      <td>stunted</td>\n",
       "      <td>1</td>\n",
       "      <td>cowpea</td>\n",
       "    </tr>\n",
       "    <tr>\n",
       "      <th>15897.500.FB00935447.concat</th>\n",
       "      <td>0</td>\n",
       "      <td>0</td>\n",
       "      <td>914</td>\n",
       "      <td>0</td>\n",
       "      <td>0</td>\n",
       "      <td>0</td>\n",
       "      <td>0</td>\n",
       "      <td>280</td>\n",
       "      <td>559</td>\n",
       "      <td>891</td>\n",
       "      <td>...</td>\n",
       "      <td>15897.500.FB00935447.concat</td>\n",
       "      <td>good</td>\n",
       "      <td>1</td>\n",
       "      <td>Limera</td>\n",
       "      <td>1</td>\n",
       "      <td>yes</td>\n",
       "      <td>Female</td>\n",
       "      <td>stunted</td>\n",
       "      <td>1</td>\n",
       "      <td>cowpea</td>\n",
       "    </tr>\n",
       "  </tbody>\n",
       "</table>\n",
       "<p>5 rows × 6266 columns</p>\n",
       "</div>"
      ],
      "text/plain": [
       "                             ko:K00001  ko:K00002  ko:K00003  ko:K00004  \\\n",
       "sample_id                                                                 \n",
       "15897.500.FB00259114.concat          0          0        407          0   \n",
       "15897.500.FB00862515.concat        277          0        258          0   \n",
       "15897.500.FB00863502.concat          0          0       1110          0   \n",
       "15897.500.FB00929809.concat        222          0        926          0   \n",
       "15897.500.FB00935447.concat          0          0        914          0   \n",
       "\n",
       "                             ko:K00005  ko:K00008  ko:K00009  ko:K00010  \\\n",
       "sample_id                                                                 \n",
       "15897.500.FB00259114.concat        409          0          0          0   \n",
       "15897.500.FB00862515.concat        585          0          0          0   \n",
       "15897.500.FB00863502.concat          0       1059          0          0   \n",
       "15897.500.FB00929809.concat          0          0          0          0   \n",
       "15897.500.FB00935447.concat          0          0          0        280   \n",
       "\n",
       "                             ko:K00012  ko:K00013  ...  \\\n",
       "sample_id                                          ...   \n",
       "15897.500.FB00259114.concat        905       1301  ...   \n",
       "15897.500.FB00862515.concat        542        579  ...   \n",
       "15897.500.FB00863502.concat       1032          0  ...   \n",
       "15897.500.FB00929809.concat        636        887  ...   \n",
       "15897.500.FB00935447.concat        559        891  ...   \n",
       "\n",
       "                                                      id  linear_growth  \\\n",
       "sample_id                                                                 \n",
       "15897.500.FB00259114.concat  15897.500.FB00259114.concat           good   \n",
       "15897.500.FB00862515.concat  15897.500.FB00862515.concat           good   \n",
       "15897.500.FB00863502.concat  15897.500.FB00863502.concat           good   \n",
       "15897.500.FB00929809.concat  15897.500.FB00929809.concat           good   \n",
       "15897.500.FB00935447.concat  15897.500.FB00935447.concat           good   \n",
       "\n",
       "                             linear_growth_num  site_village  breastfed  \\\n",
       "sample_id                                                                 \n",
       "15897.500.FB00259114.concat                  1        Limera          1   \n",
       "15897.500.FB00862515.concat                  1        Limera          1   \n",
       "15897.500.FB00863502.concat                  1        Limera          1   \n",
       "15897.500.FB00929809.concat                  1        Limera          1   \n",
       "15897.500.FB00935447.concat                  1        Limera          1   \n",
       "\n",
       "                             breastfed_cat     sex  laz_stunting_cat  \\\n",
       "sample_id                                                              \n",
       "15897.500.FB00259114.concat            yes  Female           stunted   \n",
       "15897.500.FB00862515.concat            yes  Female           stunted   \n",
       "15897.500.FB00863502.concat            yes  Female           stunted   \n",
       "15897.500.FB00929809.concat            yes  Female           stunted   \n",
       "15897.500.FB00935447.concat            yes  Female           stunted   \n",
       "\n",
       "                             laz_stunting_bool  diet_intervention  \n",
       "sample_id                                                          \n",
       "15897.500.FB00259114.concat                  1             cowpea  \n",
       "15897.500.FB00862515.concat                  1             cowpea  \n",
       "15897.500.FB00863502.concat                  1             cowpea  \n",
       "15897.500.FB00929809.concat                  1             cowpea  \n",
       "15897.500.FB00935447.concat                  1             cowpea  \n",
       "\n",
       "[5 rows x 6266 columns]"
      ]
     },
     "execution_count": 55,
     "metadata": {},
     "output_type": "execute_result"
    }
   ],
   "source": [
    "# subsample table to only include samples with clear good or bad linear growth (exclude mixed signal)\n",
    "otu_table_lg=otu_table_wr.loc[otu_table_wr['linear_growth']!='mixed']\n",
    "otu_table_lg.shape\n",
    "otu_table_lg.head()"
   ]
  },
  {
   "cell_type": "code",
   "execution_count": 56,
   "id": "c5e48e8a",
   "metadata": {},
   "outputs": [
    {
     "data": {
      "text/html": [
       "<div>\n",
       "<style scoped>\n",
       "    .dataframe tbody tr th:only-of-type {\n",
       "        vertical-align: middle;\n",
       "    }\n",
       "\n",
       "    .dataframe tbody tr th {\n",
       "        vertical-align: top;\n",
       "    }\n",
       "\n",
       "    .dataframe thead th {\n",
       "        text-align: right;\n",
       "    }\n",
       "</style>\n",
       "<table border=\"1\" class=\"dataframe\">\n",
       "  <thead>\n",
       "    <tr style=\"text-align: right;\">\n",
       "      <th></th>\n",
       "      <th>sample_id</th>\n",
       "      <th>library_construction_protocol</th>\n",
       "      <th>run_date</th>\n",
       "      <th>survey_date</th>\n",
       "      <th>collection_date</th>\n",
       "      <th>diet_intervention</th>\n",
       "      <th>collection_timestamp</th>\n",
       "      <th>whz</th>\n",
       "      <th>host_weight</th>\n",
       "      <th>incl_libprep</th>\n",
       "      <th>...</th>\n",
       "      <th>batch</th>\n",
       "      <th>library_prep_type</th>\n",
       "      <th>breastfed</th>\n",
       "      <th>del_laz_last_12week</th>\n",
       "      <th>eed_0normal_1mod_2sev</th>\n",
       "      <th>del_laz_last_6week</th>\n",
       "      <th>control_cells</th>\n",
       "      <th>lg_2_per12_cat</th>\n",
       "      <th>group_eed</th>\n",
       "      <th>observed_features</th>\n",
       "    </tr>\n",
       "  </thead>\n",
       "  <tbody>\n",
       "    <tr>\n",
       "      <th>234</th>\n",
       "      <td>15897.526.FB00259294.concat</td>\n",
       "      <td>seqwell pcrfree smartbell3.0</td>\n",
       "      <td>2/1/25</td>\n",
       "      <td>6-Jan-16</td>\n",
       "      <td>1/6/16</td>\n",
       "      <td>corn soy blend control</td>\n",
       "      <td>1/6/16</td>\n",
       "      <td>0.71</td>\n",
       "      <td>12.81</td>\n",
       "      <td>NaN</td>\n",
       "      <td>...</td>\n",
       "      <td>seqwell_pcrfree</td>\n",
       "      <td>seqwell pcr free</td>\n",
       "      <td>0</td>\n",
       "      <td>0.25</td>\n",
       "      <td>1</td>\n",
       "      <td>0.37</td>\n",
       "      <td>NaN</td>\n",
       "      <td>good</td>\n",
       "      <td>not measured</td>\n",
       "      <td>2067</td>\n",
       "    </tr>\n",
       "    <tr>\n",
       "      <th>241</th>\n",
       "      <td>15897.797.FB01127035.concat</td>\n",
       "      <td>seqwell pcrfree smartbell3.0</td>\n",
       "      <td>2/1/25</td>\n",
       "      <td>29-Jul-16</td>\n",
       "      <td>7/29/16</td>\n",
       "      <td>common bean</td>\n",
       "      <td>7/29/16</td>\n",
       "      <td>-1.01</td>\n",
       "      <td>9.12</td>\n",
       "      <td>NaN</td>\n",
       "      <td>...</td>\n",
       "      <td>seqwell_pcrfree</td>\n",
       "      <td>seqwell pcr free</td>\n",
       "      <td>1</td>\n",
       "      <td>-0.22</td>\n",
       "      <td>2</td>\n",
       "      <td>-0.39</td>\n",
       "      <td>NaN</td>\n",
       "      <td>poor</td>\n",
       "      <td>Get Worse</td>\n",
       "      <td>1126</td>\n",
       "    </tr>\n",
       "    <tr>\n",
       "      <th>243</th>\n",
       "      <td>15897.e4</td>\n",
       "      <td>smartbell3.0</td>\n",
       "      <td>6/9/23</td>\n",
       "      <td>29-Jan-16</td>\n",
       "      <td>1/29/16</td>\n",
       "      <td>cowpea</td>\n",
       "      <td>1/29/16</td>\n",
       "      <td>-0.47</td>\n",
       "      <td>12.71</td>\n",
       "      <td>0.0</td>\n",
       "      <td>...</td>\n",
       "      <td>hybrid</td>\n",
       "      <td>NaN</td>\n",
       "      <td>0</td>\n",
       "      <td>-0.10</td>\n",
       "      <td>2</td>\n",
       "      <td>-0.23</td>\n",
       "      <td>not applicable</td>\n",
       "      <td>poor</td>\n",
       "      <td>mixed</td>\n",
       "      <td>3614</td>\n",
       "    </tr>\n",
       "    <tr>\n",
       "      <th>244</th>\n",
       "      <td>15897.866.FB01125333.concat</td>\n",
       "      <td>seqwell pcrfree smartbell3.0</td>\n",
       "      <td>2/1/25</td>\n",
       "      <td>30-Aug-16</td>\n",
       "      <td>8/30/16</td>\n",
       "      <td>cowpea</td>\n",
       "      <td>8/30/16</td>\n",
       "      <td>-0.38</td>\n",
       "      <td>9.98</td>\n",
       "      <td>NaN</td>\n",
       "      <td>...</td>\n",
       "      <td>seqwell_pcrfree</td>\n",
       "      <td>seqwell pcr free</td>\n",
       "      <td>1</td>\n",
       "      <td>0.16</td>\n",
       "      <td>2</td>\n",
       "      <td>0.05</td>\n",
       "      <td>NaN</td>\n",
       "      <td>good</td>\n",
       "      <td>Always Bad</td>\n",
       "      <td>1396</td>\n",
       "    </tr>\n",
       "    <tr>\n",
       "      <th>248</th>\n",
       "      <td>15897.898.FB01124227.concat</td>\n",
       "      <td>seqwell pcrfree smartbell3.0</td>\n",
       "      <td>2/1/25</td>\n",
       "      <td>15-Jun-16</td>\n",
       "      <td>6/15/16</td>\n",
       "      <td>cowpea</td>\n",
       "      <td>6/15/16</td>\n",
       "      <td>-1.47</td>\n",
       "      <td>9.12</td>\n",
       "      <td>NaN</td>\n",
       "      <td>...</td>\n",
       "      <td>seqwell_pcrfree</td>\n",
       "      <td>seqwell pcr free</td>\n",
       "      <td>1</td>\n",
       "      <td>-0.13</td>\n",
       "      <td>2</td>\n",
       "      <td>0.14</td>\n",
       "      <td>NaN</td>\n",
       "      <td>poor</td>\n",
       "      <td>Always Bad</td>\n",
       "      <td>1288</td>\n",
       "    </tr>\n",
       "  </tbody>\n",
       "</table>\n",
       "<p>5 rows × 63 columns</p>\n",
       "</div>"
      ],
      "text/plain": [
       "                       sample_id library_construction_protocol run_date  \\\n",
       "234  15897.526.FB00259294.concat  seqwell pcrfree smartbell3.0   2/1/25   \n",
       "241  15897.797.FB01127035.concat  seqwell pcrfree smartbell3.0   2/1/25   \n",
       "243                     15897.e4                  smartbell3.0   6/9/23   \n",
       "244  15897.866.FB01125333.concat  seqwell pcrfree smartbell3.0   2/1/25   \n",
       "248  15897.898.FB01124227.concat  seqwell pcrfree smartbell3.0   2/1/25   \n",
       "\n",
       "    survey_date collection_date       diet_intervention collection_timestamp  \\\n",
       "234    6-Jan-16          1/6/16  corn soy blend control               1/6/16   \n",
       "241   29-Jul-16         7/29/16             common bean              7/29/16   \n",
       "243   29-Jan-16         1/29/16                  cowpea              1/29/16   \n",
       "244   30-Aug-16         8/30/16                  cowpea              8/30/16   \n",
       "248   15-Jun-16         6/15/16                  cowpea              6/15/16   \n",
       "\n",
       "      whz  host_weight  incl_libprep  ...            batch library_prep_type  \\\n",
       "234  0.71        12.81           NaN  ...  seqwell_pcrfree  seqwell pcr free   \n",
       "241 -1.01         9.12           NaN  ...  seqwell_pcrfree  seqwell pcr free   \n",
       "243 -0.47        12.71           0.0  ...           hybrid               NaN   \n",
       "244 -0.38         9.98           NaN  ...  seqwell_pcrfree  seqwell pcr free   \n",
       "248 -1.47         9.12           NaN  ...  seqwell_pcrfree  seqwell pcr free   \n",
       "\n",
       "     breastfed  del_laz_last_12week  eed_0normal_1mod_2sev del_laz_last_6week  \\\n",
       "234          0                 0.25                      1               0.37   \n",
       "241          1                -0.22                      2              -0.39   \n",
       "243          0                -0.10                      2              -0.23   \n",
       "244          1                 0.16                      2               0.05   \n",
       "248          1                -0.13                      2               0.14   \n",
       "\n",
       "      control_cells lg_2_per12_cat     group_eed  observed_features  \n",
       "234             NaN           good  not measured               2067  \n",
       "241             NaN           poor     Get Worse               1126  \n",
       "243  not applicable           poor         mixed               3614  \n",
       "244             NaN           good    Always Bad               1396  \n",
       "248             NaN           poor    Always Bad               1288  \n",
       "\n",
       "[5 rows x 63 columns]"
      ]
     },
     "execution_count": 56,
     "metadata": {},
     "output_type": "execute_result"
    }
   ],
   "source": [
    "# subsample the metadata table as well to exclude mixed linear growth samples\n",
    "metadata_lg=metadata4.loc[metadata4['linear_growth']!='mixed']\n",
    "metadata_lg.tail()"
   ]
  },
  {
   "cell_type": "code",
   "execution_count": 57,
   "id": "315e7ab3",
   "metadata": {},
   "outputs": [],
   "source": [
    "# Ensure rows (samples) align in both datasets\n",
    "otu_table_lg = otu_table_lg.loc[metadata_lg['sample_id']]"
   ]
  },
  {
   "cell_type": "code",
   "execution_count": 58,
   "id": "e6689f89",
   "metadata": {},
   "outputs": [
    {
     "data": {
      "text/html": [
       "<div>\n",
       "<style scoped>\n",
       "    .dataframe tbody tr th:only-of-type {\n",
       "        vertical-align: middle;\n",
       "    }\n",
       "\n",
       "    .dataframe tbody tr th {\n",
       "        vertical-align: top;\n",
       "    }\n",
       "\n",
       "    .dataframe thead th {\n",
       "        text-align: right;\n",
       "    }\n",
       "</style>\n",
       "<table border=\"1\" class=\"dataframe\">\n",
       "  <thead>\n",
       "    <tr style=\"text-align: right;\">\n",
       "      <th></th>\n",
       "      <th>ko:K00001</th>\n",
       "      <th>ko:K00002</th>\n",
       "      <th>ko:K00003</th>\n",
       "      <th>ko:K00004</th>\n",
       "      <th>ko:K00005</th>\n",
       "      <th>ko:K00008</th>\n",
       "      <th>ko:K00009</th>\n",
       "      <th>ko:K00010</th>\n",
       "      <th>ko:K00012</th>\n",
       "      <th>ko:K00013</th>\n",
       "      <th>...</th>\n",
       "      <th>ko:K25149</th>\n",
       "      <th>ko:K25188</th>\n",
       "      <th>ko:K25286</th>\n",
       "      <th>ko:K25494</th>\n",
       "      <th>ko:K25517</th>\n",
       "      <th>ko:K25617</th>\n",
       "      <th>ko:K25650</th>\n",
       "      <th>ko:K25652</th>\n",
       "      <th>ko:K25676</th>\n",
       "      <th>ko:K25677</th>\n",
       "    </tr>\n",
       "    <tr>\n",
       "      <th>sample_id</th>\n",
       "      <th></th>\n",
       "      <th></th>\n",
       "      <th></th>\n",
       "      <th></th>\n",
       "      <th></th>\n",
       "      <th></th>\n",
       "      <th></th>\n",
       "      <th></th>\n",
       "      <th></th>\n",
       "      <th></th>\n",
       "      <th></th>\n",
       "      <th></th>\n",
       "      <th></th>\n",
       "      <th></th>\n",
       "      <th></th>\n",
       "      <th></th>\n",
       "      <th></th>\n",
       "      <th></th>\n",
       "      <th></th>\n",
       "      <th></th>\n",
       "      <th></th>\n",
       "    </tr>\n",
       "  </thead>\n",
       "  <tbody>\n",
       "    <tr>\n",
       "      <th>15897.791.FB00934229.concat</th>\n",
       "      <td>0</td>\n",
       "      <td>0</td>\n",
       "      <td>412</td>\n",
       "      <td>0</td>\n",
       "      <td>0</td>\n",
       "      <td>161</td>\n",
       "      <td>262</td>\n",
       "      <td>146</td>\n",
       "      <td>1216</td>\n",
       "      <td>939</td>\n",
       "      <td>...</td>\n",
       "      <td>0</td>\n",
       "      <td>0</td>\n",
       "      <td>0</td>\n",
       "      <td>0</td>\n",
       "      <td>0</td>\n",
       "      <td>0</td>\n",
       "      <td>0</td>\n",
       "      <td>0</td>\n",
       "      <td>0</td>\n",
       "      <td>0</td>\n",
       "    </tr>\n",
       "    <tr>\n",
       "      <th>15897.535.FB00862841.concat</th>\n",
       "      <td>342</td>\n",
       "      <td>0</td>\n",
       "      <td>317</td>\n",
       "      <td>0</td>\n",
       "      <td>0</td>\n",
       "      <td>0</td>\n",
       "      <td>0</td>\n",
       "      <td>0</td>\n",
       "      <td>341</td>\n",
       "      <td>1019</td>\n",
       "      <td>...</td>\n",
       "      <td>0</td>\n",
       "      <td>0</td>\n",
       "      <td>0</td>\n",
       "      <td>0</td>\n",
       "      <td>0</td>\n",
       "      <td>0</td>\n",
       "      <td>0</td>\n",
       "      <td>0</td>\n",
       "      <td>0</td>\n",
       "      <td>0</td>\n",
       "    </tr>\n",
       "    <tr>\n",
       "      <th>15897.791.FB01126148.concat</th>\n",
       "      <td>0</td>\n",
       "      <td>0</td>\n",
       "      <td>0</td>\n",
       "      <td>0</td>\n",
       "      <td>0</td>\n",
       "      <td>0</td>\n",
       "      <td>1606</td>\n",
       "      <td>0</td>\n",
       "      <td>3685</td>\n",
       "      <td>0</td>\n",
       "      <td>...</td>\n",
       "      <td>0</td>\n",
       "      <td>0</td>\n",
       "      <td>0</td>\n",
       "      <td>0</td>\n",
       "      <td>0</td>\n",
       "      <td>0</td>\n",
       "      <td>0</td>\n",
       "      <td>0</td>\n",
       "      <td>0</td>\n",
       "      <td>0</td>\n",
       "    </tr>\n",
       "    <tr>\n",
       "      <th>15897.564.FB00941747.concat</th>\n",
       "      <td>0</td>\n",
       "      <td>0</td>\n",
       "      <td>332</td>\n",
       "      <td>0</td>\n",
       "      <td>0</td>\n",
       "      <td>0</td>\n",
       "      <td>360</td>\n",
       "      <td>0</td>\n",
       "      <td>1029</td>\n",
       "      <td>363</td>\n",
       "      <td>...</td>\n",
       "      <td>0</td>\n",
       "      <td>0</td>\n",
       "      <td>0</td>\n",
       "      <td>0</td>\n",
       "      <td>0</td>\n",
       "      <td>0</td>\n",
       "      <td>0</td>\n",
       "      <td>0</td>\n",
       "      <td>0</td>\n",
       "      <td>0</td>\n",
       "    </tr>\n",
       "    <tr>\n",
       "      <th>15897.549.FB00929817.concat</th>\n",
       "      <td>0</td>\n",
       "      <td>0</td>\n",
       "      <td>975</td>\n",
       "      <td>0</td>\n",
       "      <td>0</td>\n",
       "      <td>0</td>\n",
       "      <td>698</td>\n",
       "      <td>0</td>\n",
       "      <td>1012</td>\n",
       "      <td>247</td>\n",
       "      <td>...</td>\n",
       "      <td>0</td>\n",
       "      <td>0</td>\n",
       "      <td>0</td>\n",
       "      <td>0</td>\n",
       "      <td>0</td>\n",
       "      <td>0</td>\n",
       "      <td>0</td>\n",
       "      <td>0</td>\n",
       "      <td>0</td>\n",
       "      <td>0</td>\n",
       "    </tr>\n",
       "  </tbody>\n",
       "</table>\n",
       "<p>5 rows × 6256 columns</p>\n",
       "</div>"
      ],
      "text/plain": [
       "                             ko:K00001  ko:K00002  ko:K00003  ko:K00004  \\\n",
       "sample_id                                                                 \n",
       "15897.791.FB00934229.concat          0          0        412          0   \n",
       "15897.535.FB00862841.concat        342          0        317          0   \n",
       "15897.791.FB01126148.concat          0          0          0          0   \n",
       "15897.564.FB00941747.concat          0          0        332          0   \n",
       "15897.549.FB00929817.concat          0          0        975          0   \n",
       "\n",
       "                             ko:K00005  ko:K00008  ko:K00009  ko:K00010  \\\n",
       "sample_id                                                                 \n",
       "15897.791.FB00934229.concat          0        161        262        146   \n",
       "15897.535.FB00862841.concat          0          0          0          0   \n",
       "15897.791.FB01126148.concat          0          0       1606          0   \n",
       "15897.564.FB00941747.concat          0          0        360          0   \n",
       "15897.549.FB00929817.concat          0          0        698          0   \n",
       "\n",
       "                             ko:K00012  ko:K00013  ...  ko:K25149  ko:K25188  \\\n",
       "sample_id                                          ...                         \n",
       "15897.791.FB00934229.concat       1216        939  ...          0          0   \n",
       "15897.535.FB00862841.concat        341       1019  ...          0          0   \n",
       "15897.791.FB01126148.concat       3685          0  ...          0          0   \n",
       "15897.564.FB00941747.concat       1029        363  ...          0          0   \n",
       "15897.549.FB00929817.concat       1012        247  ...          0          0   \n",
       "\n",
       "                             ko:K25286  ko:K25494  ko:K25517  ko:K25617  \\\n",
       "sample_id                                                                 \n",
       "15897.791.FB00934229.concat          0          0          0          0   \n",
       "15897.535.FB00862841.concat          0          0          0          0   \n",
       "15897.791.FB01126148.concat          0          0          0          0   \n",
       "15897.564.FB00941747.concat          0          0          0          0   \n",
       "15897.549.FB00929817.concat          0          0          0          0   \n",
       "\n",
       "                             ko:K25650  ko:K25652  ko:K25676  ko:K25677  \n",
       "sample_id                                                                \n",
       "15897.791.FB00934229.concat          0          0          0          0  \n",
       "15897.535.FB00862841.concat          0          0          0          0  \n",
       "15897.791.FB01126148.concat          0          0          0          0  \n",
       "15897.564.FB00941747.concat          0          0          0          0  \n",
       "15897.549.FB00929817.concat          0          0          0          0  \n",
       "\n",
       "[5 rows x 6256 columns]"
      ]
     },
     "execution_count": 58,
     "metadata": {},
     "output_type": "execute_result"
    }
   ],
   "source": [
    "## Analysis for full biom table (includes samples run on HiFi only with Smartbell along with samples run with seqwell)\n",
    "# Remove the All columns at the end of OTU \n",
    "otu_dr=otu_table_lg.drop(['id','breastfed', 'linear_growth','linear_growth_num',  'site_village','breastfed','breastfed_cat',\n",
    "                          'sex','laz_stunting_cat','diet_intervention','laz_stunting_bool'], axis=1)\n",
    "otu_dr.head()"
   ]
  },
  {
   "cell_type": "code",
   "execution_count": 59,
   "id": "bf36d63c",
   "metadata": {},
   "outputs": [
    {
     "name": "stderr",
     "output_type": "stream",
     "text": [
      "/Users/jminich/miniconda3/lib/python3.6/site-packages/ipykernel_launcher.py:5: SettingWithCopyWarning: \n",
      "A value is trying to be set on a copy of a slice from a DataFrame.\n",
      "Try using .loc[row_indexer,col_indexer] = value instead\n",
      "\n",
      "See the caveats in the documentation: https://pandas.pydata.org/pandas-docs/stable/user_guide/indexing.html#returning-a-view-versus-a-copy\n",
      "  \"\"\"\n"
     ]
    },
    {
     "data": {
      "text/plain": [
       "dtype('int64')"
      ]
     },
     "execution_count": 59,
     "metadata": {},
     "output_type": "execute_result"
    }
   ],
   "source": [
    "# Ensure the data type is numeric\n",
    "metadata_lg['linear_growth_num'].dtype\n",
    "\n",
    "#if not a numeric, force it to be one\n",
    "metadata_lg['linear_growth_num'] = pd.to_numeric(metadata_lg['linear_growth_num'])\n",
    "\n",
    "metadata_lg['linear_growth_num'].dtype"
   ]
  },
  {
   "cell_type": "code",
   "execution_count": 60,
   "id": "ee0973d7",
   "metadata": {},
   "outputs": [
    {
     "data": {
      "text/html": [
       "<div>\n",
       "<style scoped>\n",
       "    .dataframe tbody tr th:only-of-type {\n",
       "        vertical-align: middle;\n",
       "    }\n",
       "\n",
       "    .dataframe tbody tr th {\n",
       "        vertical-align: top;\n",
       "    }\n",
       "\n",
       "    .dataframe thead th {\n",
       "        text-align: right;\n",
       "    }\n",
       "</style>\n",
       "<table border=\"1\" class=\"dataframe\">\n",
       "  <thead>\n",
       "    <tr style=\"text-align: right;\">\n",
       "      <th></th>\n",
       "      <th>sample_id</th>\n",
       "      <th>linear_growth_num</th>\n",
       "    </tr>\n",
       "  </thead>\n",
       "  <tbody>\n",
       "    <tr>\n",
       "      <th>234</th>\n",
       "      <td>15897.526.FB00259294.concat</td>\n",
       "      <td>1</td>\n",
       "    </tr>\n",
       "    <tr>\n",
       "      <th>241</th>\n",
       "      <td>15897.797.FB01127035.concat</td>\n",
       "      <td>0</td>\n",
       "    </tr>\n",
       "    <tr>\n",
       "      <th>243</th>\n",
       "      <td>15897.e4</td>\n",
       "      <td>0</td>\n",
       "    </tr>\n",
       "    <tr>\n",
       "      <th>244</th>\n",
       "      <td>15897.866.FB01125333.concat</td>\n",
       "      <td>1</td>\n",
       "    </tr>\n",
       "    <tr>\n",
       "      <th>248</th>\n",
       "      <td>15897.898.FB01124227.concat</td>\n",
       "      <td>0</td>\n",
       "    </tr>\n",
       "  </tbody>\n",
       "</table>\n",
       "</div>"
      ],
      "text/plain": [
       "                       sample_id  linear_growth_num\n",
       "234  15897.526.FB00259294.concat                  1\n",
       "241  15897.797.FB01127035.concat                  0\n",
       "243                     15897.e4                  0\n",
       "244  15897.866.FB01125333.concat                  1\n",
       "248  15897.898.FB01124227.concat                  0"
      ]
     },
     "execution_count": 60,
     "metadata": {},
     "output_type": "execute_result"
    }
   ],
   "source": [
    "# subsample this dataset to only include the encoded variable and sample_id\n",
    "metadata_lg2=metadata_lg[['sample_id', 'linear_growth_num']]\n",
    "metadata_lg2.tail()"
   ]
  },
  {
   "cell_type": "code",
   "execution_count": 61,
   "id": "6b27efdd",
   "metadata": {},
   "outputs": [
    {
     "name": "stdout",
     "output_type": "stream",
     "text": [
      "Index(['15897.791.FB00934229.concat', '15897.535.FB00862841.concat',\n",
      "       '15897.791.FB01126148.concat', '15897.564.FB00941747.concat',\n",
      "       '15897.549.FB00929817.concat', '15897.683.FB00052239.concat',\n",
      "       '15897.500.FB00863502.concat', '15897.564.FB00055906.concat',\n",
      "       '15897.526.FB00935408.concat', '15897.870.FB00251665.concat',\n",
      "       ...\n",
      "       '15897.779.FB00937154.concat', '15897.f6',\n",
      "       '15897.779.FB01125749.concat', '15897.c2',\n",
      "       '15897.804.FB00935930.concat', '15897.526.FB00259294.concat',\n",
      "       '15897.797.FB01127035.concat', '15897.e4',\n",
      "       '15897.866.FB01125333.concat', '15897.898.FB01124227.concat'],\n",
      "      dtype='object', name='sample_id', length=163)\n"
     ]
    }
   ],
   "source": [
    "#resets the index\n",
    "metadata_lg2.set_index('sample_id', inplace=True)\n",
    "print(metadata_lg2.index)"
   ]
  },
  {
   "cell_type": "code",
   "execution_count": 62,
   "id": "e20f6184",
   "metadata": {},
   "outputs": [
    {
     "data": {
      "text/plain": [
       "array([1, 0, 1, 0, 0, 1, 0, 1, 0, 0, 0, 0, 0, 0, 0, 1, 1, 0, 0, 0, 1, 1,\n",
       "       1, 0, 1, 0, 0, 0, 0, 0, 1, 0, 1, 0, 0, 0, 0, 1, 0, 0, 1, 0, 0, 0,\n",
       "       0, 1, 1, 1, 0, 1, 1, 0, 0, 1, 0, 1, 1, 0, 0, 0, 0, 0, 1, 0, 1, 0,\n",
       "       0, 1, 0, 1, 0, 1, 0, 0, 0, 1, 0, 0, 0, 0, 0, 1, 1, 1, 0, 0, 1, 0,\n",
       "       1, 0, 0, 1, 0, 0, 0, 1, 0, 1, 0, 1, 1, 1, 0, 1, 0, 0, 0, 0, 0, 0,\n",
       "       1, 1, 0, 0, 0, 1, 1, 0, 1, 0, 1, 0, 0, 0, 0, 1, 1, 1, 0, 0])"
      ]
     },
     "execution_count": 62,
     "metadata": {},
     "output_type": "execute_result"
    }
   ],
   "source": [
    "## 3) Split data into training and testing datasets\n",
    "# x: features (ind variables)\n",
    "# y: target varible \n",
    "# train_test_split: A function from sklearn.model_selection that splits the dataset into training and test sets.\n",
    "# test_size=0.2: 20% of the data will be used for testing, and 80% for training.\n",
    "# random_state=42: This ensures that the split is reproducible. Using the same random_state value will give you the same split each time.\n",
    "# first value is the minimal OTU table (otu_dr), second is minimum metadata (metadata_bf)\n",
    "X_train, X_test, y_train, y_test = train_test_split(otu_dr, metadata_lg2, test_size=0.2, random_state=42)\n",
    "\n",
    "# check to ensure y_train is ok\n",
    "y_train.head()\n",
    "\n",
    "## 4) Train a random forest classifier\n",
    "\n",
    "# Initialize the Random Forest Classifier\n",
    "rf_model = RandomForestClassifier(n_estimators=100, random_state=42)\n",
    "\n",
    "# Do this if you have imbalanced classifications...\n",
    "# Initialize the Random Forest Classifier\n",
    "rf_model = RandomForestClassifier(class_weight='balanced', random_state=42)\n",
    "\n",
    "# need to change shape of y_train to 1D array\n",
    "y_train2=y_train.values.flatten()\n",
    "\n",
    "y_train2"
   ]
  },
  {
   "cell_type": "code",
   "execution_count": 63,
   "id": "650db4f0",
   "metadata": {},
   "outputs": [
    {
     "data": {
      "text/plain": [
       "RandomForestClassifier(class_weight='balanced', random_state=42)"
      ]
     },
     "execution_count": 63,
     "metadata": {},
     "output_type": "execute_result"
    }
   ],
   "source": [
    "# Train the model\n",
    "rf_model.fit(X_train, y_train2)"
   ]
  },
  {
   "cell_type": "code",
   "execution_count": 64,
   "id": "34a7689e",
   "metadata": {},
   "outputs": [
    {
     "name": "stdout",
     "output_type": "stream",
     "text": [
      "Accuracy: 0.5757575757575758\n",
      "Confusion Matrix:\n",
      " [[19  1]\n",
      " [13  0]]\n",
      "Classification Report:\n",
      "               precision    recall  f1-score   support\n",
      "\n",
      "           0       0.59      0.95      0.73        20\n",
      "           1       0.00      0.00      0.00        13\n",
      "\n",
      "    accuracy                           0.58        33\n",
      "   macro avg       0.30      0.47      0.37        33\n",
      "weighted avg       0.36      0.58      0.44        33\n",
      "\n"
     ]
    }
   ],
   "source": [
    "## 5_ Evaluate the model\n",
    "y_pred=rf_model.predict(X_test)\n",
    "\n",
    "# Evaluate the model\n",
    "print(\"Accuracy:\", accuracy_score(y_test, y_pred))\n",
    "print(\"Confusion Matrix:\\n\", confusion_matrix(y_test, y_pred))\n",
    "print(\"Classification Report:\\n\", classification_report(y_test, y_pred))"
   ]
  },
  {
   "cell_type": "code",
   "execution_count": 65,
   "id": "994c3ee2",
   "metadata": {},
   "outputs": [
    {
     "data": {
      "image/png": "[encoded data removed]",
      "text/plain": [
       "<Figure size 216x216 with 2 Axes>"
      ]
     },
     "metadata": {
      "needs_background": "light"
     },
     "output_type": "display_data"
    }
   ],
   "source": [
    "cf=confusion_matrix(y_test, y_pred)\n",
    "\n",
    "#Viz of confusion matrix\n",
    "group_names = ['True Neg','False Pos','False Neg','True Pos']\n",
    "\n",
    "group_counts = [\"{0:0.0f}\".format(value) for value in cf.flatten()]\n",
    "\n",
    "group_percentages = [\"{0:.1%}\".format(value) for value in cf.flatten()/np.sum(cf)]\n",
    "labels = [f\"{v1}\\n{v2}\\n{v3}\" for v1, v2, v3 in\n",
    "          zip(group_names,group_counts,group_percentages)]\n",
    "labels = np.asarray(labels).reshape(2,2)\n",
    "\n",
    "plt.figure(figsize=(3,3))\n",
    "sns.heatmap(cf, annot=labels, fmt='', cmap='Blues')\n",
    "plt.savefig(\"RF_r1Mwrep_func_relabun_linear_growth.png\", dpi=600, bbox_inches=\"tight\")"
   ]
  },
  {
   "cell_type": "code",
   "execution_count": 66,
   "id": "fb4c0c29",
   "metadata": {},
   "outputs": [
    {
     "name": "stdout",
     "output_type": "stream",
     "text": [
      "        Feature  Importance\n",
      "5338  ko:K21688    0.006797\n",
      "651   ko:K01270    0.005698\n",
      "2407  ko:K05896    0.005031\n",
      "2543  ko:K06287    0.004903\n",
      "900   ko:K01753    0.004625\n",
      "...         ...         ...\n",
      "498   ko:K00973    0.002060\n",
      "1472  ko:K02775    0.002059\n",
      "3472  ko:K09902    0.002053\n",
      "3097  ko:K07716    0.002037\n",
      "1570  ko:K02956    0.002004\n",
      "\n",
      "[100 rows x 2 columns]\n"
     ]
    }
   ],
   "source": [
    "## 6 Feature importance\n",
    "# Extract feature importances\n",
    "importances = rf_model.feature_importances_\n",
    "\n",
    "# Match with feature names\n",
    "feature_importances = pd.DataFrame({\n",
    "    'Feature': otu_dr.columns,\n",
    "    'Importance': importances\n",
    "}).sort_values(by='Importance', ascending=False)\n",
    "\n",
    "print(feature_importances.head(100))"
   ]
  },
  {
   "cell_type": "code",
   "execution_count": 67,
   "id": "02b4367c",
   "metadata": {},
   "outputs": [],
   "source": [
    "# export results\n",
    "feature_importances.to_csv('r1Mwrep_func_relabun_linear_growth.csv', index=False)"
   ]
  },
  {
   "cell_type": "code",
   "execution_count": null,
   "id": "48242f39",
   "metadata": {},
   "outputs": [],
   "source": [
    "# Figures for functional barcharts\n",
    "# name of table to use <otu_table_lg> 'mixed is removed'\n"
   ]
  },
  {
   "cell_type": "code",
   "execution_count": null,
   "id": "fca08215",
   "metadata": {},
   "outputs": [],
   "source": [
    "#shared KO\n",
    "ko:K00239\n",
    "ko:K19360\n",
    "ko:K10439\n",
    "ko:K21688\n",
    "ko:K07459\n",
    "ko:K13573\n",
    "ko:K05275\n",
    "ko:K05521\n",
    "ko:K23124\n",
    "ko:K00529\n",
    "ko:K02757\n",
    "ko:K22927\n",
    "ko:K01819\n",
    "ko:K01737\n",
    "ko:K01966\n",
    "ko:K05795\n",
    "ko:K07058"
   ]
  },
  {
   "cell_type": "code",
   "execution_count": 78,
   "id": "6507a09b",
   "metadata": {},
   "outputs": [
    {
     "name": "stdout",
     "output_type": "stream",
     "text": [
      "ML_function_r1M_PAV_lg.ipynb\r\n",
      "ML_function_r1M_relabund_lg.ipynb\r\n",
      "r1M.wrep_PAV_func_trans.csv\r\n",
      "r1M.wrep_relabun_func_trans.csv\r\n",
      "r1M.wrepl_func_217028_feature-table.biom\r\n",
      "r1M.wrepl_func_217028_feature-table.biom.txt\r\n",
      "r1M_2_metadata.csv\r\n",
      "r1M_wrep.func_PAV_217037_feature-table.biom\r\n",
      "r1M_wrep.func_PAV_217037_feature-table.biom.txt\r\n",
      "\u001b[34mresults\u001b[m\u001b[m/\r\n"
     ]
    }
   ],
   "source": [
    "ls\n"
   ]
  },
  {
   "cell_type": "code",
   "execution_count": 79,
   "id": "b71fb892",
   "metadata": {},
   "outputs": [
    {
     "data": {
      "image/png": "[encoded data removed]",
      "text/plain": [
       "<Figure size 72x288 with 1 Axes>"
      ]
     },
     "metadata": {
      "needs_background": "light"
     },
     "output_type": "display_data"
    }
   ],
   "source": [
    "plt.figure(figsize=(1,4))\n",
    "c_order=['good','bad'] #changes order of the x axis groups\n",
    "colors=[\"skyblue\",\"salmon\"]\n",
    "a=sns.barplot(data=otu_table_lg, x=\"linear_growth\", y=\"ko:K00239\", order=c_order,palette=colors)\n",
    "a.set(xlabel=None)\n",
    "plt.savefig(\"results/ko:K00239_func.png\", dpi=600,bbox_inches=\"tight\")\n"
   ]
  },
  {
   "cell_type": "code",
   "execution_count": 80,
   "id": "235786d5",
   "metadata": {},
   "outputs": [
    {
     "data": {
      "image/png": "[encoded data removed]",
      "text/plain": [
       "<Figure size 72x288 with 1 Axes>"
      ]
     },
     "metadata": {
      "needs_background": "light"
     },
     "output_type": "display_data"
    }
   ],
   "source": [
    "plt.figure(figsize=(1,4))\n",
    "c_order=['good','bad'] #changes order of the x axis groups\n",
    "colors=[\"skyblue\",\"salmon\"]\n",
    "a=sns.barplot(data=otu_table_lg, x=\"linear_growth\", y=\"ko:K19360\", order=c_order,palette=colors)\n",
    "a.set(xlabel=None)\n",
    "plt.savefig(\"results/ko:K19360_func.png\", dpi=600,bbox_inches=\"tight\")\n"
   ]
  },
  {
   "cell_type": "code",
   "execution_count": 81,
   "id": "bfd176d8",
   "metadata": {},
   "outputs": [
    {
     "data": {
      "image/png": "[encoded data removed]",
      "text/plain": [
       "<Figure size 72x288 with 1 Axes>"
      ]
     },
     "metadata": {
      "needs_background": "light"
     },
     "output_type": "display_data"
    }
   ],
   "source": [
    "plt.figure(figsize=(1,4))\n",
    "c_order=['good','bad'] #changes order of the x axis groups\n",
    "colors=[\"skyblue\",\"salmon\"]\n",
    "a=sns.barplot(data=otu_table_lg, x=\"linear_growth\", y=\"ko:K10439\", order=c_order,palette=colors)\n",
    "a.set(xlabel=None)\n",
    "plt.savefig(\"results/ko:K10439_func.png\", dpi=600,bbox_inches=\"tight\")\n"
   ]
  },
  {
   "cell_type": "code",
   "execution_count": 82,
   "id": "374d6c07",
   "metadata": {},
   "outputs": [
    {
     "data": {
      "image/png": "[encoded data removed]",
      "text/plain": [
       "<Figure size 72x288 with 1 Axes>"
      ]
     },
     "metadata": {
      "needs_background": "light"
     },
     "output_type": "display_data"
    }
   ],
   "source": [
    "plt.figure(figsize=(1,4))\n",
    "c_order=['good','bad'] #changes order of the x axis groups\n",
    "colors=[\"skyblue\",\"salmon\"]\n",
    "a=sns.barplot(data=otu_table_lg, x=\"linear_growth\", y=\"ko:K21688\", order=c_order,palette=colors)\n",
    "a.set(xlabel=None)\n",
    "plt.savefig(\"results/ko:K21688_func.png\", dpi=600,bbox_inches=\"tight\")\n"
   ]
  },
  {
   "cell_type": "code",
   "execution_count": 83,
   "id": "2600b119",
   "metadata": {},
   "outputs": [
    {
     "data": {
      "image/png": "[encoded data removed]",
      "text/plain": [
       "<Figure size 72x288 with 1 Axes>"
      ]
     },
     "metadata": {
      "needs_background": "light"
     },
     "output_type": "display_data"
    }
   ],
   "source": [
    "plt.figure(figsize=(1,4))\n",
    "c_order=['good','bad'] #changes order of the x axis groups\n",
    "colors=[\"skyblue\",\"salmon\"]\n",
    "a=sns.barplot(data=otu_table_lg, x=\"linear_growth\", y=\"ko:K07459\", order=c_order,palette=colors)\n",
    "a.set(xlabel=None)\n",
    "plt.savefig(\"results/ko:K07459_func.png\", dpi=600,bbox_inches=\"tight\")\n"
   ]
  },
  {
   "cell_type": "code",
   "execution_count": 84,
   "id": "cd21c647",
   "metadata": {},
   "outputs": [
    {
     "data": {
      "image/png": "[encoded data removed]",
      "text/plain": [
       "<Figure size 72x288 with 1 Axes>"
      ]
     },
     "metadata": {
      "needs_background": "light"
     },
     "output_type": "display_data"
    }
   ],
   "source": [
    "plt.figure(figsize=(1,4))\n",
    "c_order=['good','bad'] #changes order of the x axis groups\n",
    "colors=[\"skyblue\",\"salmon\"]\n",
    "a=sns.barplot(data=otu_table_lg, x=\"linear_growth\", y=\"ko:K13573\", order=c_order,palette=colors)\n",
    "a.set(xlabel=None)\n",
    "plt.savefig(\"results/ko:K13573_func.png\", dpi=600,bbox_inches=\"tight\")\n"
   ]
  },
  {
   "cell_type": "code",
   "execution_count": 85,
   "id": "b307c7d0",
   "metadata": {},
   "outputs": [
    {
     "data": {
      "image/png": "[encoded data removed]",
      "text/plain": [
       "<Figure size 72x288 with 1 Axes>"
      ]
     },
     "metadata": {
      "needs_background": "light"
     },
     "output_type": "display_data"
    }
   ],
   "source": [
    "plt.figure(figsize=(1,4))\n",
    "c_order=['good','bad'] #changes order of the x axis groups\n",
    "colors=[\"skyblue\",\"salmon\"]\n",
    "a=sns.barplot(data=otu_table_lg, x=\"linear_growth\", y=\"ko:K05275\", order=c_order,palette=colors)\n",
    "a.set(xlabel=None)\n",
    "plt.savefig(\"results/ko:K05275_func.png\", dpi=600,bbox_inches=\"tight\")\n"
   ]
  },
  {
   "cell_type": "code",
   "execution_count": 86,
   "id": "9d626aba",
   "metadata": {},
   "outputs": [
    {
     "data": {
      "image/png": "[encoded data removed]",
      "text/plain": [
       "<Figure size 72x288 with 1 Axes>"
      ]
     },
     "metadata": {
      "needs_background": "light"
     },
     "output_type": "display_data"
    }
   ],
   "source": [
    "plt.figure(figsize=(1,4))\n",
    "c_order=['good','bad'] #changes order of the x axis groups\n",
    "colors=[\"skyblue\",\"salmon\"]\n",
    "a=sns.barplot(data=otu_table_lg, x=\"linear_growth\", y=\"ko:K05521\", order=c_order,palette=colors)\n",
    "a.set(xlabel=None)\n",
    "plt.savefig(\"results/ko:K05521_func.png\", dpi=600,bbox_inches=\"tight\")\n"
   ]
  },
  {
   "cell_type": "code",
   "execution_count": 87,
   "id": "2b938f27",
   "metadata": {},
   "outputs": [
    {
     "data": {
      "image/png": "[encoded data removed]",
      "text/plain": [
       "<Figure size 72x288 with 1 Axes>"
      ]
     },
     "metadata": {
      "needs_background": "light"
     },
     "output_type": "display_data"
    }
   ],
   "source": [
    "plt.figure(figsize=(1,4))\n",
    "c_order=['good','bad'] #changes order of the x axis groups\n",
    "colors=[\"skyblue\",\"salmon\"]\n",
    "a=sns.barplot(data=otu_table_lg, x=\"linear_growth\", y=\"ko:K23124\", order=c_order,palette=colors)\n",
    "a.set(xlabel=None)\n",
    "plt.savefig(\"results/ko:K23124_func.png\", dpi=600,bbox_inches=\"tight\")\n"
   ]
  },
  {
   "cell_type": "code",
   "execution_count": 88,
   "id": "fbf2bd3b",
   "metadata": {},
   "outputs": [
    {
     "data": {
      "image/png": "[encoded data removed]",
      "text/plain": [
       "<Figure size 72x288 with 1 Axes>"
      ]
     },
     "metadata": {
      "needs_background": "light"
     },
     "output_type": "display_data"
    }
   ],
   "source": [
    "plt.figure(figsize=(1,4))\n",
    "c_order=['good','bad'] #changes order of the x axis groups\n",
    "colors=[\"skyblue\",\"salmon\"]\n",
    "a=sns.barplot(data=otu_table_lg, x=\"linear_growth\", y=\"ko:K00529\", order=c_order,palette=colors)\n",
    "a.set(xlabel=None)\n",
    "plt.savefig(\"results/ko:K00529_func.png\", dpi=600,bbox_inches=\"tight\")\n"
   ]
  },
  {
   "cell_type": "code",
   "execution_count": 89,
   "id": "afb519a1",
   "metadata": {},
   "outputs": [
    {
     "data": {
      "image/png": "[encoded data removed]",
      "text/plain": [
       "<Figure size 72x288 with 1 Axes>"
      ]
     },
     "metadata": {
      "needs_background": "light"
     },
     "output_type": "display_data"
    }
   ],
   "source": [
    "plt.figure(figsize=(1,4))\n",
    "c_order=['good','bad'] #changes order of the x axis groups\n",
    "colors=[\"skyblue\",\"salmon\"]\n",
    "a=sns.barplot(data=otu_table_lg, x=\"linear_growth\", y=\"ko:K02757\", order=c_order,palette=colors)\n",
    "a.set(xlabel=None)\n",
    "plt.savefig(\"results/ko:K02757_func.png\", dpi=600,bbox_inches=\"tight\")\n"
   ]
  },
  {
   "cell_type": "code",
   "execution_count": 90,
   "id": "fdf979be",
   "metadata": {},
   "outputs": [
    {
     "data": {
      "image/png": "[encoded data removed]",
      "text/plain": [
       "<Figure size 72x288 with 1 Axes>"
      ]
     },
     "metadata": {
      "needs_background": "light"
     },
     "output_type": "display_data"
    }
   ],
   "source": [
    "plt.figure(figsize=(1,4))\n",
    "c_order=['good','bad'] #changes order of the x axis groups\n",
    "colors=[\"skyblue\",\"salmon\"]\n",
    "a=sns.barplot(data=otu_table_lg, x=\"linear_growth\", y=\"ko:K22927\", order=c_order,palette=colors)\n",
    "a.set(xlabel=None)\n",
    "plt.savefig(\"results/ko:K22927_func.png\", dpi=600,bbox_inches=\"tight\")\n"
   ]
  },
  {
   "cell_type": "code",
   "execution_count": 91,
   "id": "081ad85c",
   "metadata": {},
   "outputs": [
    {
     "data": {
      "image/png": "[encoded data removed]",
      "text/plain": [
       "<Figure size 72x288 with 1 Axes>"
      ]
     },
     "metadata": {
      "needs_background": "light"
     },
     "output_type": "display_data"
    }
   ],
   "source": [
    "plt.figure(figsize=(1,4))\n",
    "c_order=['good','bad'] #changes order of the x axis groups\n",
    "colors=[\"skyblue\",\"salmon\"]\n",
    "a=sns.barplot(data=otu_table_lg, x=\"linear_growth\", y=\"ko:K01819\", order=c_order,palette=colors)\n",
    "a.set(xlabel=None)\n",
    "plt.savefig(\"results/ko:K01819_func.png\", dpi=600,bbox_inches=\"tight\")\n"
   ]
  },
  {
   "cell_type": "code",
   "execution_count": 92,
   "id": "9fbc800e",
   "metadata": {},
   "outputs": [
    {
     "data": {
      "image/png": "[encoded data removed]",
      "text/plain": [
       "<Figure size 72x288 with 1 Axes>"
      ]
     },
     "metadata": {
      "needs_background": "light"
     },
     "output_type": "display_data"
    }
   ],
   "source": [
    "plt.figure(figsize=(1,4))\n",
    "c_order=['good','bad'] #changes order of the x axis groups\n",
    "colors=[\"skyblue\",\"salmon\"]\n",
    "a=sns.barplot(data=otu_table_lg, x=\"linear_growth\", y=\"ko:K01737\", order=c_order,palette=colors)\n",
    "a.set(xlabel=None)\n",
    "plt.savefig(\"results/ko:K01737_func.png\", dpi=600,bbox_inches=\"tight\")\n"
   ]
  },
  {
   "cell_type": "code",
   "execution_count": 93,
   "id": "c6c4f160",
   "metadata": {},
   "outputs": [
    {
     "data": {
      "image/png": "[encoded data removed]",
      "text/plain": [
       "<Figure size 72x288 with 1 Axes>"
      ]
     },
     "metadata": {
      "needs_background": "light"
     },
     "output_type": "display_data"
    }
   ],
   "source": [
    "plt.figure(figsize=(1,4))\n",
    "c_order=['good','bad'] #changes order of the x axis groups\n",
    "colors=[\"skyblue\",\"salmon\"]\n",
    "a=sns.barplot(data=otu_table_lg, x=\"linear_growth\", y=\"ko:K01966\", order=c_order,palette=colors)\n",
    "a.set(xlabel=None)\n",
    "plt.savefig(\"results/ko:K01966_func.png\", dpi=600,bbox_inches=\"tight\")\n"
   ]
  },
  {
   "cell_type": "code",
   "execution_count": 94,
   "id": "60bb33df",
   "metadata": {},
   "outputs": [
    {
     "data": {
      "image/png": "[encoded data removed]",
      "text/plain": [
       "<Figure size 72x288 with 1 Axes>"
      ]
     },
     "metadata": {
      "needs_background": "light"
     },
     "output_type": "display_data"
    }
   ],
   "source": [
    "plt.figure(figsize=(1,4))\n",
    "c_order=['good','bad'] #changes order of the x axis groups\n",
    "colors=[\"skyblue\",\"salmon\"]\n",
    "a=sns.barplot(data=otu_table_lg, x=\"linear_growth\", y=\"ko:K05795\", order=c_order,palette=colors)\n",
    "a.set(xlabel=None)\n",
    "plt.savefig(\"results/ko:K05795_func.png\", dpi=600,bbox_inches=\"tight\")\n"
   ]
  },
  {
   "cell_type": "code",
   "execution_count": 95,
   "id": "a3b87191",
   "metadata": {},
   "outputs": [
    {
     "data": {
      "image/png": "[encoded data removed]",
      "text/plain": [
       "<Figure size 72x288 with 1 Axes>"
      ]
     },
     "metadata": {
      "needs_background": "light"
     },
     "output_type": "display_data"
    }
   ],
   "source": [
    "plt.figure(figsize=(1,4))\n",
    "c_order=['good','bad'] #changes order of the x axis groups\n",
    "colors=[\"skyblue\",\"salmon\"]\n",
    "a=sns.barplot(data=otu_table_lg, x=\"linear_growth\", y=\"ko:K07058\", order=c_order,palette=colors)\n",
    "a.set(xlabel=None)\n",
    "plt.savefig(\"results/ko:K07058_func.png\", dpi=600,bbox_inches=\"tight\")\n"
   ]
  },
  {
   "cell_type": "code",
   "execution_count": null,
   "id": "594025c4",
   "metadata": {},
   "outputs": [],
   "source": []
  },
  {
   "cell_type": "code",
   "execution_count": null,
   "id": "12314213",
   "metadata": {},
   "outputs": [],
   "source": []
  }
 ],
 "metadata": {
  "kernelspec": {
   "display_name": "Python 3",
   "language": "python",
   "name": "python3"
  },
  "language_info": {
   "codemirror_mode": {
    "name": "ipython",
    "version": 3
   },
   "file_extension": ".py",
   "mimetype": "text/x-python",
   "name": "python",
   "nbconvert_exporter": "python",
   "pygments_lexer": "ipython3",
   "version": "3.6.13"
  }
 },
 "nbformat": 4,
 "nbformat_minor": 5
}
