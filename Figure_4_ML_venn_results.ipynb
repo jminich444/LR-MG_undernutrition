{
 "cells": [
  {
   "cell_type": "code",
   "execution_count": 4,
   "id": "25be6f27",
   "metadata": {},
   "outputs": [],
   "source": [
    "import pandas as pd\n",
    "import numpy as np\n",
    "import seaborn as sns\n",
    "import matplotlib.pyplot as plt\n"
   ]
  },
  {
   "cell_type": "code",
   "execution_count": 5,
   "id": "5d9fdee6",
   "metadata": {},
   "outputs": [
    {
     "data": {
      "text/plain": [
       "'/Users/jminich/Desktop/LR_MG_REVISION/expanded_seqwell/taxa_tables'"
      ]
     },
     "execution_count": 5,
     "metadata": {},
     "output_type": "execute_result"
    }
   ],
   "source": [
    "pwd"
   ]
  },
  {
   "cell_type": "code",
   "execution_count": 6,
   "id": "c50ac320",
   "metadata": {},
   "outputs": [
    {
     "name": "stdout",
     "output_type": "stream",
     "text": [
      "ML_taxa_PAV__LAZ.ipynb\r\n",
      "ML_taxa_PAV__linear_growth.ipynb\r\n",
      "ML_taxa_relabun__LAZ.ipynb\r\n",
      "ML_taxa_relabun__linear_growth.ipynb\r\n",
      "ML_taxa_seqwell.ipynb\r\n",
      "ML_venn_clustermap.ipynb\r\n",
      "r100M_PAV_216962_feature-table.biom\r\n",
      "r100M_PAV_216962_feature-table_taxa.txt\r\n",
      "r100M_PAV_216962_taxa_trans.csv\r\n",
      "r100M_metadata.csv\r\n",
      "r100M_relabund_216959_feature-table.biom\r\n",
      "r100M_relabund_216959_taxa.txt\r\n",
      "r100M_relabund_216959_taxa_trans.csv\r\n",
      "\u001b[34mresults\u001b[m\u001b[m/\r\n"
     ]
    }
   ],
   "source": [
    "ls"
   ]
  },
  {
   "cell_type": "code",
   "execution_count": null,
   "id": "7b7dfce5",
   "metadata": {},
   "outputs": [],
   "source": [
    "# original biom table needs to be transformed so that samples are rows and features are columns...and the end includes metadata categories\n",
    "# Load microbiome feature data (e.g., OTU table)\n",
    "# <r100M_relabund_216958_taxa_trans.csv> this biom table has metadata at the end of the feature table to enable subsampling\n",
    "# Note, for biom table, ensure sample name is same from mapping file (may need to remove prefix)\n",
    "relabun = pd.read_csv(\"Table_S19_r100M_relabund_216959_taxa_trans.csv\", index_col=0)\n",
    "\n",
    "# Note for metadata, need to 1) change sample_name to sample_id in metadata 2) remove any samples in metadata which are not included in analysis\n",
    "# new file is called <\n",
    "# Load metadata with the target variable\n",
    "metadata = pd.read_csv(\"Table_S20_r100M_metadata.csv\")"
   ]
  },
  {
   "cell_type": "code",
   "execution_count": null,
   "id": "2f21db33",
   "metadata": {},
   "outputs": [],
   "source": [
    "# shared taxa in PAV and relabund\n",
    "s__Faecalibacterium_genus_unkn_species\n",
    "s__Prevotella sp022741625\n",
    "s__Prevotella copri_C\n",
    "s__Streptococcus sp000187445\n",
    "s__Acetatifactor sp003447295\n",
    "s__Collinsella aerofaciens_H\n",
    "s__Bifidobacterium breve\n",
    "s__Prevotella sp900552675\n",
    "s__Campylobacter infans\n",
    "s__Anaerostipes hadrus\n",
    "s__Streptococcus salivarius\n",
    "s__Roseburia inulinivorans\n",
    "s__Streptococcus_genus_unkn_species\n",
    "s__Streptococcus sp934229725\n",
    "s__Bifidobacterium kashiwanohense_A\n",
    "s__Prevotella sp900290275\n",
    "s__Limisoma sp000437795\n",
    "s__Selenomonadaceae_family_unkn_genus_unkn_species\n",
    "s__Helicobacter_B fennelliae\n",
    "s__CAG-882 sp003486385\n",
    "s__Bifidobacterium bifidum\n",
    "s__Faecalibacterium sp003449675\n",
    "s__Blautia_A wexlerae\n",
    "s__Prevotella sp900546575\n",
    "s__Prevotella sp021636625\n",
    "s__Faecalibacterium prausnitzii_A\n",
    "s__Sutterella wadsworthensis\n",
    "s__Parolsenella uli_B\n",
    "s__Prevotella sp900551275\n",
    "s__Cryptobacteroides sp000435075\n",
    "s__Acetatifactor intestinalis\n",
    "s__Prevotella sp900554835\n",
    "s__Megasphaera sp900540735\n",
    "s__Parolsenella uli_A\n",
    "s__Enterocloster sp900541315\n",
    "s__Bacteroides caccae\n",
    "s__Hominiventricola filiformis\n",
    "s__Faecalibacterium sp900539885\n",
    "s__Faecousia sp900549705\n",
    "s__Prevotella sp900313215\n",
    "s__Alloprevotella sp900539625\n",
    "s__Alloprevotella sp900540885\n",
    "s__Alloprevotella timonensis\n",
    "s__Faecalibacterium prausnitzii_D\n",
    "s__Prevotella copri_I\n",
    "s__Prevotella sp003447235\n",
    "s__Bifidobacterium adolescentis\n",
    "s__Bacteroides thetaiotaomicron\n",
    "s__Senegalimassilia sp003474385\n",
    "s__Agathobaculum butyriciproducens\n",
    "s__Prevotella stercorea\n",
    "s__Bacteroides uniformis\n",
    "s__Prevotella merdae\n",
    "s__CAG-510 sp000434615\n",
    "s__Selenomonas_A sp900769615\n",
    "s__Streptococcus salivarius_D\n",
    "s__CAG-95 sp900066375"
   ]
  },
  {
   "cell_type": "code",
   "execution_count": 23,
   "id": "91fc5d85",
   "metadata": {},
   "outputs": [
    {
     "data": {
      "text/html": [
       "<div>\n",
       "<style scoped>\n",
       "    .dataframe tbody tr th:only-of-type {\n",
       "        vertical-align: middle;\n",
       "    }\n",
       "\n",
       "    .dataframe tbody tr th {\n",
       "        vertical-align: top;\n",
       "    }\n",
       "\n",
       "    .dataframe thead th {\n",
       "        text-align: right;\n",
       "    }\n",
       "</style>\n",
       "<table border=\"1\" class=\"dataframe\">\n",
       "  <thead>\n",
       "    <tr style=\"text-align: right;\">\n",
       "      <th></th>\n",
       "      <th>s__14-2 sp902463835</th>\n",
       "      <th>s__14-2 sp934434905</th>\n",
       "      <th>s__Acetatifactor acetigignens</th>\n",
       "      <th>s__Acetatifactor intestinalis</th>\n",
       "      <th>s__Acetatifactor sp003447295</th>\n",
       "      <th>s__Acetatifactor sp900066565</th>\n",
       "      <th>s__Acetatifactor sp900554205</th>\n",
       "      <th>s__Acetatifactor sp900755865</th>\n",
       "      <th>s__Acetatifactor sp900760705</th>\n",
       "      <th>s__Acetatifactor sp900766575</th>\n",
       "      <th>...</th>\n",
       "      <th>s__sapiens HG03453</th>\n",
       "      <th>unclassified</th>\n",
       "      <th>breastfed</th>\n",
       "      <th>hsid</th>\n",
       "      <th>linear_growth</th>\n",
       "      <th>laz_stunting_bool</th>\n",
       "      <th>linear_growth_num</th>\n",
       "      <th>site_village</th>\n",
       "      <th>collection_week</th>\n",
       "      <th>order</th>\n",
       "    </tr>\n",
       "    <tr>\n",
       "      <th>sample_id</th>\n",
       "      <th></th>\n",
       "      <th></th>\n",
       "      <th></th>\n",
       "      <th></th>\n",
       "      <th></th>\n",
       "      <th></th>\n",
       "      <th></th>\n",
       "      <th></th>\n",
       "      <th></th>\n",
       "      <th></th>\n",
       "      <th></th>\n",
       "      <th></th>\n",
       "      <th></th>\n",
       "      <th></th>\n",
       "      <th></th>\n",
       "      <th></th>\n",
       "      <th></th>\n",
       "      <th></th>\n",
       "      <th></th>\n",
       "      <th></th>\n",
       "      <th></th>\n",
       "    </tr>\n",
       "  </thead>\n",
       "  <tbody>\n",
       "    <tr>\n",
       "      <th>15889.500.FB00259114</th>\n",
       "      <td>0</td>\n",
       "      <td>0</td>\n",
       "      <td>0</td>\n",
       "      <td>0</td>\n",
       "      <td>0</td>\n",
       "      <td>191776</td>\n",
       "      <td>0</td>\n",
       "      <td>0</td>\n",
       "      <td>0</td>\n",
       "      <td>0</td>\n",
       "      <td>...</td>\n",
       "      <td>0</td>\n",
       "      <td>33593223</td>\n",
       "      <td>1</td>\n",
       "      <td>500</td>\n",
       "      <td>good</td>\n",
       "      <td>1</td>\n",
       "      <td>1</td>\n",
       "      <td>Limera</td>\n",
       "      <td>24</td>\n",
       "      <td>good.500.24</td>\n",
       "    </tr>\n",
       "    <tr>\n",
       "      <th>15889.500.FB00862515</th>\n",
       "      <td>0</td>\n",
       "      <td>0</td>\n",
       "      <td>0</td>\n",
       "      <td>93569</td>\n",
       "      <td>0</td>\n",
       "      <td>0</td>\n",
       "      <td>0</td>\n",
       "      <td>0</td>\n",
       "      <td>0</td>\n",
       "      <td>0</td>\n",
       "      <td>...</td>\n",
       "      <td>0</td>\n",
       "      <td>30029010</td>\n",
       "      <td>1</td>\n",
       "      <td>500</td>\n",
       "      <td>good</td>\n",
       "      <td>1</td>\n",
       "      <td>1</td>\n",
       "      <td>Limera</td>\n",
       "      <td>0</td>\n",
       "      <td>good.500.0</td>\n",
       "    </tr>\n",
       "    <tr>\n",
       "      <th>15889.500.FB00929809</th>\n",
       "      <td>0</td>\n",
       "      <td>0</td>\n",
       "      <td>0</td>\n",
       "      <td>0</td>\n",
       "      <td>0</td>\n",
       "      <td>0</td>\n",
       "      <td>630286</td>\n",
       "      <td>0</td>\n",
       "      <td>0</td>\n",
       "      <td>0</td>\n",
       "      <td>...</td>\n",
       "      <td>0</td>\n",
       "      <td>49844774</td>\n",
       "      <td>1</td>\n",
       "      <td>500</td>\n",
       "      <td>good</td>\n",
       "      <td>1</td>\n",
       "      <td>1</td>\n",
       "      <td>Limera</td>\n",
       "      <td>36</td>\n",
       "      <td>good.500.36</td>\n",
       "    </tr>\n",
       "    <tr>\n",
       "      <th>15889.500.FB00935447</th>\n",
       "      <td>0</td>\n",
       "      <td>0</td>\n",
       "      <td>40685</td>\n",
       "      <td>0</td>\n",
       "      <td>29426</td>\n",
       "      <td>0</td>\n",
       "      <td>0</td>\n",
       "      <td>0</td>\n",
       "      <td>0</td>\n",
       "      <td>0</td>\n",
       "      <td>...</td>\n",
       "      <td>0</td>\n",
       "      <td>40038544</td>\n",
       "      <td>1</td>\n",
       "      <td>500</td>\n",
       "      <td>good</td>\n",
       "      <td>1</td>\n",
       "      <td>1</td>\n",
       "      <td>Limera</td>\n",
       "      <td>48</td>\n",
       "      <td>good.500.48</td>\n",
       "    </tr>\n",
       "    <tr>\n",
       "      <th>15889.504.FB00259057</th>\n",
       "      <td>0</td>\n",
       "      <td>0</td>\n",
       "      <td>0</td>\n",
       "      <td>0</td>\n",
       "      <td>136055</td>\n",
       "      <td>52512</td>\n",
       "      <td>0</td>\n",
       "      <td>0</td>\n",
       "      <td>0</td>\n",
       "      <td>0</td>\n",
       "      <td>...</td>\n",
       "      <td>0</td>\n",
       "      <td>37683345</td>\n",
       "      <td>1</td>\n",
       "      <td>504</td>\n",
       "      <td>mixed</td>\n",
       "      <td>0</td>\n",
       "      <td>mixed</td>\n",
       "      <td>Limera</td>\n",
       "      <td>24</td>\n",
       "      <td>mixed.504.24</td>\n",
       "    </tr>\n",
       "  </tbody>\n",
       "</table>\n",
       "<p>5 rows × 2170 columns</p>\n",
       "</div>"
      ],
      "text/plain": [
       "                      s__14-2 sp902463835  s__14-2 sp934434905  \\\n",
       "sample_id                                                        \n",
       "15889.500.FB00259114                    0                    0   \n",
       "15889.500.FB00862515                    0                    0   \n",
       "15889.500.FB00929809                    0                    0   \n",
       "15889.500.FB00935447                    0                    0   \n",
       "15889.504.FB00259057                    0                    0   \n",
       "\n",
       "                      s__Acetatifactor acetigignens  \\\n",
       "sample_id                                             \n",
       "15889.500.FB00259114                              0   \n",
       "15889.500.FB00862515                              0   \n",
       "15889.500.FB00929809                              0   \n",
       "15889.500.FB00935447                          40685   \n",
       "15889.504.FB00259057                              0   \n",
       "\n",
       "                      s__Acetatifactor intestinalis  \\\n",
       "sample_id                                             \n",
       "15889.500.FB00259114                              0   \n",
       "15889.500.FB00862515                          93569   \n",
       "15889.500.FB00929809                              0   \n",
       "15889.500.FB00935447                              0   \n",
       "15889.504.FB00259057                              0   \n",
       "\n",
       "                      s__Acetatifactor sp003447295  \\\n",
       "sample_id                                            \n",
       "15889.500.FB00259114                             0   \n",
       "15889.500.FB00862515                             0   \n",
       "15889.500.FB00929809                             0   \n",
       "15889.500.FB00935447                         29426   \n",
       "15889.504.FB00259057                        136055   \n",
       "\n",
       "                      s__Acetatifactor sp900066565  \\\n",
       "sample_id                                            \n",
       "15889.500.FB00259114                        191776   \n",
       "15889.500.FB00862515                             0   \n",
       "15889.500.FB00929809                             0   \n",
       "15889.500.FB00935447                             0   \n",
       "15889.504.FB00259057                         52512   \n",
       "\n",
       "                      s__Acetatifactor sp900554205  \\\n",
       "sample_id                                            \n",
       "15889.500.FB00259114                             0   \n",
       "15889.500.FB00862515                             0   \n",
       "15889.500.FB00929809                        630286   \n",
       "15889.500.FB00935447                             0   \n",
       "15889.504.FB00259057                             0   \n",
       "\n",
       "                      s__Acetatifactor sp900755865  \\\n",
       "sample_id                                            \n",
       "15889.500.FB00259114                             0   \n",
       "15889.500.FB00862515                             0   \n",
       "15889.500.FB00929809                             0   \n",
       "15889.500.FB00935447                             0   \n",
       "15889.504.FB00259057                             0   \n",
       "\n",
       "                      s__Acetatifactor sp900760705  \\\n",
       "sample_id                                            \n",
       "15889.500.FB00259114                             0   \n",
       "15889.500.FB00862515                             0   \n",
       "15889.500.FB00929809                             0   \n",
       "15889.500.FB00935447                             0   \n",
       "15889.504.FB00259057                             0   \n",
       "\n",
       "                      s__Acetatifactor sp900766575  ...  s__sapiens HG03453  \\\n",
       "sample_id                                           ...                       \n",
       "15889.500.FB00259114                             0  ...                   0   \n",
       "15889.500.FB00862515                             0  ...                   0   \n",
       "15889.500.FB00929809                             0  ...                   0   \n",
       "15889.500.FB00935447                             0  ...                   0   \n",
       "15889.504.FB00259057                             0  ...                   0   \n",
       "\n",
       "                      unclassified  breastfed  hsid  linear_growth  \\\n",
       "sample_id                                                            \n",
       "15889.500.FB00259114      33593223          1   500           good   \n",
       "15889.500.FB00862515      30029010          1   500           good   \n",
       "15889.500.FB00929809      49844774          1   500           good   \n",
       "15889.500.FB00935447      40038544          1   500           good   \n",
       "15889.504.FB00259057      37683345          1   504          mixed   \n",
       "\n",
       "                      laz_stunting_bool  linear_growth_num  site_village  \\\n",
       "sample_id                                                                  \n",
       "15889.500.FB00259114                  1                  1        Limera   \n",
       "15889.500.FB00862515                  1                  1        Limera   \n",
       "15889.500.FB00929809                  1                  1        Limera   \n",
       "15889.500.FB00935447                  1                  1        Limera   \n",
       "15889.504.FB00259057                  0              mixed        Limera   \n",
       "\n",
       "                      collection_week         order  \n",
       "sample_id                                            \n",
       "15889.500.FB00259114               24   good.500.24  \n",
       "15889.500.FB00862515                0    good.500.0  \n",
       "15889.500.FB00929809               36   good.500.36  \n",
       "15889.500.FB00935447               48   good.500.48  \n",
       "15889.504.FB00259057               24  mixed.504.24  \n",
       "\n",
       "[5 rows x 2170 columns]"
      ]
     },
     "execution_count": 23,
     "metadata": {},
     "output_type": "execute_result"
    }
   ],
   "source": [
    "relabun.head()"
   ]
  },
  {
   "cell_type": "code",
   "execution_count": 26,
   "id": "cfc0915a",
   "metadata": {},
   "outputs": [
    {
     "data": {
      "text/html": [
       "<div>\n",
       "<style scoped>\n",
       "    .dataframe tbody tr th:only-of-type {\n",
       "        vertical-align: middle;\n",
       "    }\n",
       "\n",
       "    .dataframe tbody tr th {\n",
       "        vertical-align: top;\n",
       "    }\n",
       "\n",
       "    .dataframe thead th {\n",
       "        text-align: right;\n",
       "    }\n",
       "</style>\n",
       "<table border=\"1\" class=\"dataframe\">\n",
       "  <thead>\n",
       "    <tr style=\"text-align: right;\">\n",
       "      <th></th>\n",
       "      <th>s__14-2 sp902463835</th>\n",
       "      <th>s__14-2 sp934434905</th>\n",
       "      <th>s__Acetatifactor acetigignens</th>\n",
       "      <th>s__Acetatifactor intestinalis</th>\n",
       "      <th>s__Acetatifactor sp003447295</th>\n",
       "      <th>s__Acetatifactor sp900066565</th>\n",
       "      <th>s__Acetatifactor sp900554205</th>\n",
       "      <th>s__Acetatifactor sp900755865</th>\n",
       "      <th>s__Acetatifactor sp900760705</th>\n",
       "      <th>s__Acetatifactor sp900766575</th>\n",
       "      <th>...</th>\n",
       "      <th>s__sapiens HG03453</th>\n",
       "      <th>unclassified</th>\n",
       "      <th>breastfed</th>\n",
       "      <th>hsid</th>\n",
       "      <th>linear_growth</th>\n",
       "      <th>laz_stunting_bool</th>\n",
       "      <th>linear_growth_num</th>\n",
       "      <th>site_village</th>\n",
       "      <th>collection_week</th>\n",
       "      <th>order</th>\n",
       "    </tr>\n",
       "    <tr>\n",
       "      <th>sample_id</th>\n",
       "      <th></th>\n",
       "      <th></th>\n",
       "      <th></th>\n",
       "      <th></th>\n",
       "      <th></th>\n",
       "      <th></th>\n",
       "      <th></th>\n",
       "      <th></th>\n",
       "      <th></th>\n",
       "      <th></th>\n",
       "      <th></th>\n",
       "      <th></th>\n",
       "      <th></th>\n",
       "      <th></th>\n",
       "      <th></th>\n",
       "      <th></th>\n",
       "      <th></th>\n",
       "      <th></th>\n",
       "      <th></th>\n",
       "      <th></th>\n",
       "      <th></th>\n",
       "    </tr>\n",
       "  </thead>\n",
       "  <tbody>\n",
       "    <tr>\n",
       "      <th>15889.500.FB00259114</th>\n",
       "      <td>0</td>\n",
       "      <td>0</td>\n",
       "      <td>0</td>\n",
       "      <td>0</td>\n",
       "      <td>0</td>\n",
       "      <td>191776</td>\n",
       "      <td>0</td>\n",
       "      <td>0</td>\n",
       "      <td>0</td>\n",
       "      <td>0</td>\n",
       "      <td>...</td>\n",
       "      <td>0</td>\n",
       "      <td>33593223</td>\n",
       "      <td>1</td>\n",
       "      <td>500</td>\n",
       "      <td>good</td>\n",
       "      <td>1</td>\n",
       "      <td>1</td>\n",
       "      <td>Limera</td>\n",
       "      <td>24</td>\n",
       "      <td>good.500.24</td>\n",
       "    </tr>\n",
       "    <tr>\n",
       "      <th>15889.500.FB00862515</th>\n",
       "      <td>0</td>\n",
       "      <td>0</td>\n",
       "      <td>0</td>\n",
       "      <td>93569</td>\n",
       "      <td>0</td>\n",
       "      <td>0</td>\n",
       "      <td>0</td>\n",
       "      <td>0</td>\n",
       "      <td>0</td>\n",
       "      <td>0</td>\n",
       "      <td>...</td>\n",
       "      <td>0</td>\n",
       "      <td>30029010</td>\n",
       "      <td>1</td>\n",
       "      <td>500</td>\n",
       "      <td>good</td>\n",
       "      <td>1</td>\n",
       "      <td>1</td>\n",
       "      <td>Limera</td>\n",
       "      <td>0</td>\n",
       "      <td>good.500.0</td>\n",
       "    </tr>\n",
       "    <tr>\n",
       "      <th>15889.500.FB00929809</th>\n",
       "      <td>0</td>\n",
       "      <td>0</td>\n",
       "      <td>0</td>\n",
       "      <td>0</td>\n",
       "      <td>0</td>\n",
       "      <td>0</td>\n",
       "      <td>630286</td>\n",
       "      <td>0</td>\n",
       "      <td>0</td>\n",
       "      <td>0</td>\n",
       "      <td>...</td>\n",
       "      <td>0</td>\n",
       "      <td>49844774</td>\n",
       "      <td>1</td>\n",
       "      <td>500</td>\n",
       "      <td>good</td>\n",
       "      <td>1</td>\n",
       "      <td>1</td>\n",
       "      <td>Limera</td>\n",
       "      <td>36</td>\n",
       "      <td>good.500.36</td>\n",
       "    </tr>\n",
       "    <tr>\n",
       "      <th>15889.500.FB00935447</th>\n",
       "      <td>0</td>\n",
       "      <td>0</td>\n",
       "      <td>40685</td>\n",
       "      <td>0</td>\n",
       "      <td>29426</td>\n",
       "      <td>0</td>\n",
       "      <td>0</td>\n",
       "      <td>0</td>\n",
       "      <td>0</td>\n",
       "      <td>0</td>\n",
       "      <td>...</td>\n",
       "      <td>0</td>\n",
       "      <td>40038544</td>\n",
       "      <td>1</td>\n",
       "      <td>500</td>\n",
       "      <td>good</td>\n",
       "      <td>1</td>\n",
       "      <td>1</td>\n",
       "      <td>Limera</td>\n",
       "      <td>48</td>\n",
       "      <td>good.500.48</td>\n",
       "    </tr>\n",
       "    <tr>\n",
       "      <th>15889.510.FB00267791</th>\n",
       "      <td>0</td>\n",
       "      <td>0</td>\n",
       "      <td>0</td>\n",
       "      <td>96712</td>\n",
       "      <td>262313</td>\n",
       "      <td>12433</td>\n",
       "      <td>0</td>\n",
       "      <td>0</td>\n",
       "      <td>0</td>\n",
       "      <td>0</td>\n",
       "      <td>...</td>\n",
       "      <td>0</td>\n",
       "      <td>33777502</td>\n",
       "      <td>0</td>\n",
       "      <td>510</td>\n",
       "      <td>bad</td>\n",
       "      <td>0</td>\n",
       "      <td>0</td>\n",
       "      <td>Limera</td>\n",
       "      <td>24</td>\n",
       "      <td>bad.510.24</td>\n",
       "    </tr>\n",
       "    <tr>\n",
       "      <th>15889.510.FB00862361</th>\n",
       "      <td>0</td>\n",
       "      <td>0</td>\n",
       "      <td>0</td>\n",
       "      <td>1555481</td>\n",
       "      <td>103580</td>\n",
       "      <td>54983</td>\n",
       "      <td>73540</td>\n",
       "      <td>0</td>\n",
       "      <td>0</td>\n",
       "      <td>0</td>\n",
       "      <td>...</td>\n",
       "      <td>0</td>\n",
       "      <td>36412346</td>\n",
       "      <td>0</td>\n",
       "      <td>510</td>\n",
       "      <td>bad</td>\n",
       "      <td>1</td>\n",
       "      <td>0</td>\n",
       "      <td>Limera</td>\n",
       "      <td>12</td>\n",
       "      <td>bad.510.12</td>\n",
       "    </tr>\n",
       "    <tr>\n",
       "      <th>15889.510.FB00862556</th>\n",
       "      <td>0</td>\n",
       "      <td>0</td>\n",
       "      <td>0</td>\n",
       "      <td>392722</td>\n",
       "      <td>0</td>\n",
       "      <td>0</td>\n",
       "      <td>0</td>\n",
       "      <td>0</td>\n",
       "      <td>0</td>\n",
       "      <td>0</td>\n",
       "      <td>...</td>\n",
       "      <td>0</td>\n",
       "      <td>23622152</td>\n",
       "      <td>0</td>\n",
       "      <td>510</td>\n",
       "      <td>bad</td>\n",
       "      <td>1</td>\n",
       "      <td>0</td>\n",
       "      <td>Limera</td>\n",
       "      <td>0</td>\n",
       "      <td>bad.510.0</td>\n",
       "    </tr>\n",
       "    <tr>\n",
       "      <th>15889.510.FB00933916</th>\n",
       "      <td>0</td>\n",
       "      <td>0</td>\n",
       "      <td>0</td>\n",
       "      <td>0</td>\n",
       "      <td>0</td>\n",
       "      <td>0</td>\n",
       "      <td>0</td>\n",
       "      <td>0</td>\n",
       "      <td>0</td>\n",
       "      <td>0</td>\n",
       "      <td>...</td>\n",
       "      <td>0</td>\n",
       "      <td>42675493</td>\n",
       "      <td>0</td>\n",
       "      <td>510</td>\n",
       "      <td>bad</td>\n",
       "      <td>1</td>\n",
       "      <td>0</td>\n",
       "      <td>Limera</td>\n",
       "      <td>48</td>\n",
       "      <td>bad.510.48</td>\n",
       "    </tr>\n",
       "    <tr>\n",
       "      <th>15889.510.FB00941907</th>\n",
       "      <td>0</td>\n",
       "      <td>0</td>\n",
       "      <td>14404</td>\n",
       "      <td>108032</td>\n",
       "      <td>298572</td>\n",
       "      <td>0</td>\n",
       "      <td>0</td>\n",
       "      <td>0</td>\n",
       "      <td>0</td>\n",
       "      <td>0</td>\n",
       "      <td>...</td>\n",
       "      <td>0</td>\n",
       "      <td>35180979</td>\n",
       "      <td>0</td>\n",
       "      <td>510</td>\n",
       "      <td>bad</td>\n",
       "      <td>1</td>\n",
       "      <td>0</td>\n",
       "      <td>Limera</td>\n",
       "      <td>36</td>\n",
       "      <td>bad.510.36</td>\n",
       "    </tr>\n",
       "    <tr>\n",
       "      <th>15889.526.FB00055451</th>\n",
       "      <td>0</td>\n",
       "      <td>0</td>\n",
       "      <td>0</td>\n",
       "      <td>7446</td>\n",
       "      <td>38942</td>\n",
       "      <td>14520</td>\n",
       "      <td>0</td>\n",
       "      <td>0</td>\n",
       "      <td>0</td>\n",
       "      <td>0</td>\n",
       "      <td>...</td>\n",
       "      <td>0</td>\n",
       "      <td>10930072</td>\n",
       "      <td>1</td>\n",
       "      <td>526</td>\n",
       "      <td>good</td>\n",
       "      <td>0</td>\n",
       "      <td>1</td>\n",
       "      <td>NaN</td>\n",
       "      <td>2</td>\n",
       "      <td>good.526.2</td>\n",
       "    </tr>\n",
       "  </tbody>\n",
       "</table>\n",
       "<p>10 rows × 2170 columns</p>\n",
       "</div>"
      ],
      "text/plain": [
       "                      s__14-2 sp902463835  s__14-2 sp934434905  \\\n",
       "sample_id                                                        \n",
       "15889.500.FB00259114                    0                    0   \n",
       "15889.500.FB00862515                    0                    0   \n",
       "15889.500.FB00929809                    0                    0   \n",
       "15889.500.FB00935447                    0                    0   \n",
       "15889.510.FB00267791                    0                    0   \n",
       "15889.510.FB00862361                    0                    0   \n",
       "15889.510.FB00862556                    0                    0   \n",
       "15889.510.FB00933916                    0                    0   \n",
       "15889.510.FB00941907                    0                    0   \n",
       "15889.526.FB00055451                    0                    0   \n",
       "\n",
       "                      s__Acetatifactor acetigignens  \\\n",
       "sample_id                                             \n",
       "15889.500.FB00259114                              0   \n",
       "15889.500.FB00862515                              0   \n",
       "15889.500.FB00929809                              0   \n",
       "15889.500.FB00935447                          40685   \n",
       "15889.510.FB00267791                              0   \n",
       "15889.510.FB00862361                              0   \n",
       "15889.510.FB00862556                              0   \n",
       "15889.510.FB00933916                              0   \n",
       "15889.510.FB00941907                          14404   \n",
       "15889.526.FB00055451                              0   \n",
       "\n",
       "                      s__Acetatifactor intestinalis  \\\n",
       "sample_id                                             \n",
       "15889.500.FB00259114                              0   \n",
       "15889.500.FB00862515                          93569   \n",
       "15889.500.FB00929809                              0   \n",
       "15889.500.FB00935447                              0   \n",
       "15889.510.FB00267791                          96712   \n",
       "15889.510.FB00862361                        1555481   \n",
       "15889.510.FB00862556                         392722   \n",
       "15889.510.FB00933916                              0   \n",
       "15889.510.FB00941907                         108032   \n",
       "15889.526.FB00055451                           7446   \n",
       "\n",
       "                      s__Acetatifactor sp003447295  \\\n",
       "sample_id                                            \n",
       "15889.500.FB00259114                             0   \n",
       "15889.500.FB00862515                             0   \n",
       "15889.500.FB00929809                             0   \n",
       "15889.500.FB00935447                         29426   \n",
       "15889.510.FB00267791                        262313   \n",
       "15889.510.FB00862361                        103580   \n",
       "15889.510.FB00862556                             0   \n",
       "15889.510.FB00933916                             0   \n",
       "15889.510.FB00941907                        298572   \n",
       "15889.526.FB00055451                         38942   \n",
       "\n",
       "                      s__Acetatifactor sp900066565  \\\n",
       "sample_id                                            \n",
       "15889.500.FB00259114                        191776   \n",
       "15889.500.FB00862515                             0   \n",
       "15889.500.FB00929809                             0   \n",
       "15889.500.FB00935447                             0   \n",
       "15889.510.FB00267791                         12433   \n",
       "15889.510.FB00862361                         54983   \n",
       "15889.510.FB00862556                             0   \n",
       "15889.510.FB00933916                             0   \n",
       "15889.510.FB00941907                             0   \n",
       "15889.526.FB00055451                         14520   \n",
       "\n",
       "                      s__Acetatifactor sp900554205  \\\n",
       "sample_id                                            \n",
       "15889.500.FB00259114                             0   \n",
       "15889.500.FB00862515                             0   \n",
       "15889.500.FB00929809                        630286   \n",
       "15889.500.FB00935447                             0   \n",
       "15889.510.FB00267791                             0   \n",
       "15889.510.FB00862361                         73540   \n",
       "15889.510.FB00862556                             0   \n",
       "15889.510.FB00933916                             0   \n",
       "15889.510.FB00941907                             0   \n",
       "15889.526.FB00055451                             0   \n",
       "\n",
       "                      s__Acetatifactor sp900755865  \\\n",
       "sample_id                                            \n",
       "15889.500.FB00259114                             0   \n",
       "15889.500.FB00862515                             0   \n",
       "15889.500.FB00929809                             0   \n",
       "15889.500.FB00935447                             0   \n",
       "15889.510.FB00267791                             0   \n",
       "15889.510.FB00862361                             0   \n",
       "15889.510.FB00862556                             0   \n",
       "15889.510.FB00933916                             0   \n",
       "15889.510.FB00941907                             0   \n",
       "15889.526.FB00055451                             0   \n",
       "\n",
       "                      s__Acetatifactor sp900760705  \\\n",
       "sample_id                                            \n",
       "15889.500.FB00259114                             0   \n",
       "15889.500.FB00862515                             0   \n",
       "15889.500.FB00929809                             0   \n",
       "15889.500.FB00935447                             0   \n",
       "15889.510.FB00267791                             0   \n",
       "15889.510.FB00862361                             0   \n",
       "15889.510.FB00862556                             0   \n",
       "15889.510.FB00933916                             0   \n",
       "15889.510.FB00941907                             0   \n",
       "15889.526.FB00055451                             0   \n",
       "\n",
       "                      s__Acetatifactor sp900766575  ...  s__sapiens HG03453  \\\n",
       "sample_id                                           ...                       \n",
       "15889.500.FB00259114                             0  ...                   0   \n",
       "15889.500.FB00862515                             0  ...                   0   \n",
       "15889.500.FB00929809                             0  ...                   0   \n",
       "15889.500.FB00935447                             0  ...                   0   \n",
       "15889.510.FB00267791                             0  ...                   0   \n",
       "15889.510.FB00862361                             0  ...                   0   \n",
       "15889.510.FB00862556                             0  ...                   0   \n",
       "15889.510.FB00933916                             0  ...                   0   \n",
       "15889.510.FB00941907                             0  ...                   0   \n",
       "15889.526.FB00055451                             0  ...                   0   \n",
       "\n",
       "                      unclassified  breastfed  hsid  linear_growth  \\\n",
       "sample_id                                                            \n",
       "15889.500.FB00259114      33593223          1   500           good   \n",
       "15889.500.FB00862515      30029010          1   500           good   \n",
       "15889.500.FB00929809      49844774          1   500           good   \n",
       "15889.500.FB00935447      40038544          1   500           good   \n",
       "15889.510.FB00267791      33777502          0   510            bad   \n",
       "15889.510.FB00862361      36412346          0   510            bad   \n",
       "15889.510.FB00862556      23622152          0   510            bad   \n",
       "15889.510.FB00933916      42675493          0   510            bad   \n",
       "15889.510.FB00941907      35180979          0   510            bad   \n",
       "15889.526.FB00055451      10930072          1   526           good   \n",
       "\n",
       "                      laz_stunting_bool  linear_growth_num  site_village  \\\n",
       "sample_id                                                                  \n",
       "15889.500.FB00259114                  1                  1        Limera   \n",
       "15889.500.FB00862515                  1                  1        Limera   \n",
       "15889.500.FB00929809                  1                  1        Limera   \n",
       "15889.500.FB00935447                  1                  1        Limera   \n",
       "15889.510.FB00267791                  0                  0        Limera   \n",
       "15889.510.FB00862361                  1                  0        Limera   \n",
       "15889.510.FB00862556                  1                  0        Limera   \n",
       "15889.510.FB00933916                  1                  0        Limera   \n",
       "15889.510.FB00941907                  1                  0        Limera   \n",
       "15889.526.FB00055451                  0                  1           NaN   \n",
       "\n",
       "                      collection_week        order  \n",
       "sample_id                                           \n",
       "15889.500.FB00259114               24  good.500.24  \n",
       "15889.500.FB00862515                0   good.500.0  \n",
       "15889.500.FB00929809               36  good.500.36  \n",
       "15889.500.FB00935447               48  good.500.48  \n",
       "15889.510.FB00267791               24   bad.510.24  \n",
       "15889.510.FB00862361               12   bad.510.12  \n",
       "15889.510.FB00862556                0    bad.510.0  \n",
       "15889.510.FB00933916               48   bad.510.48  \n",
       "15889.510.FB00941907               36   bad.510.36  \n",
       "15889.526.FB00055451                2   good.526.2  \n",
       "\n",
       "[10 rows x 2170 columns]"
      ]
     },
     "execution_count": 26,
     "metadata": {},
     "output_type": "execute_result"
    }
   ],
   "source": [
    "# remove mixed samples\n",
    "rmmix=relabun.loc[relabun['linear_growth']!='mixed']\n",
    "rmmix.head(10)"
   ]
  },
  {
   "cell_type": "code",
   "execution_count": 35,
   "id": "284c6b79",
   "metadata": {},
   "outputs": [],
   "source": [
    "# subsample the larger table for only the shared taxa of (top 100) PAV and relabund\n",
    "shared=rmmix[[\"s__Faecalibacterium_genus_unkn_species\",\n",
    "\"s__Prevotella sp022741625\",\n",
    "\"s__Prevotella copri_C\",\n",
    "\"s__Streptococcus sp000187445\",\n",
    "\"s__Acetatifactor sp003447295\",\n",
    "\"s__Collinsella aerofaciens_H\",\n",
    "\"s__Bifidobacterium breve\",\n",
    "\"s__Prevotella sp900552675\",\n",
    "\"s__Campylobacter infans\",\n",
    "\"s__Anaerostipes hadrus\",\n",
    "\"s__Streptococcus salivarius\",\n",
    "\"s__Roseburia inulinivorans\",\n",
    "\"s__Streptococcus_genus_unkn_species\",\n",
    "\"s__Streptococcus sp934229725\",\n",
    "\"s__Bifidobacterium kashiwanohense_A\",\n",
    "\"s__Prevotella sp900290275\",\n",
    "\"s__Limisoma sp000437795\",\n",
    "\"s__Selenomonadaceae_family_unkn_genus_unkn_species\",\n",
    "\"s__Helicobacter_B fennelliae\",\n",
    "\"s__CAG-882 sp003486385\",\n",
    "\"s__Bifidobacterium bifidum\",\n",
    "\"s__Faecalibacterium sp003449675\",\n",
    "\"s__Blautia_A wexlerae\",\n",
    "\"s__Prevotella sp900546575\",\n",
    "\"s__Prevotella sp021636625\",\n",
    "\"s__Faecalibacterium prausnitzii_A\",\n",
    "\"s__Sutterella wadsworthensis\",\n",
    "\"s__Parolsenella uli_B\",\n",
    "\"s__Prevotella sp900551275\",\n",
    "\"s__Cryptobacteroides sp000435075\",\n",
    "\"s__Acetatifactor intestinalis\",\n",
    "\"s__Prevotella sp900554835\",\n",
    "\"s__Megasphaera sp900540735\",\n",
    "\"s__Parolsenella uli_A\",\n",
    "\"s__Enterocloster sp900541315\",\n",
    "\"s__Bacteroides caccae\",\n",
    "\"s__Hominiventricola filiformis\",\n",
    "\"s__Faecalibacterium sp900539885\",\n",
    "\"s__Faecousia sp900549705\",\n",
    "\"s__Prevotella sp900313215\",\n",
    "\"s__Alloprevotella sp900539625\",\n",
    "\"s__Alloprevotella sp900540885\",\n",
    "\"s__Alloprevotella timonensis\",\n",
    "\"s__Faecalibacterium prausnitzii_D\",\n",
    "\"s__Prevotella copri_I\",\n",
    "\"s__Prevotella sp003447235\",\n",
    "\"s__Bifidobacterium adolescentis\",\n",
    "\"s__Bacteroides thetaiotaomicron\",\n",
    "\"s__Senegalimassilia sp003474385\",\n",
    "\"s__Agathobaculum butyriciproducens\",\n",
    "\"s__Prevotella stercorea\",\n",
    "\"s__Bacteroides uniformis\",\n",
    "\"s__Prevotella merdae\",\n",
    "\"s__CAG-510 sp000434615\",\n",
    "\"s__Selenomonas_A sp900769615\",\n",
    "\"s__Streptococcus salivarius_D\",\n",
    "\"s__CAG-95 sp900066375\",\n",
    "\"linear_growth\"]]"
   ]
  },
  {
   "cell_type": "code",
   "execution_count": null,
   "id": "85e230d8",
   "metadata": {},
   "outputs": [],
   "source": []
  },
  {
   "cell_type": "code",
   "execution_count": null,
   "id": "2d72e467",
   "metadata": {},
   "outputs": [],
   "source": []
  },
  {
   "cell_type": "code",
   "execution_count": 40,
   "id": "f0996e86",
   "metadata": {},
   "outputs": [
    {
     "data": {
      "text/html": [
       "<div>\n",
       "<style scoped>\n",
       "    .dataframe tbody tr th:only-of-type {\n",
       "        vertical-align: middle;\n",
       "    }\n",
       "\n",
       "    .dataframe tbody tr th {\n",
       "        vertical-align: top;\n",
       "    }\n",
       "\n",
       "    .dataframe thead th {\n",
       "        text-align: right;\n",
       "    }\n",
       "</style>\n",
       "<table border=\"1\" class=\"dataframe\">\n",
       "  <thead>\n",
       "    <tr style=\"text-align: right;\">\n",
       "      <th></th>\n",
       "      <th>s__Faecalibacterium_genus_unkn_species</th>\n",
       "      <th>s__Prevotella sp022741625</th>\n",
       "      <th>s__Prevotella copri_C</th>\n",
       "      <th>s__Streptococcus sp000187445</th>\n",
       "      <th>s__Acetatifactor sp003447295</th>\n",
       "      <th>s__Collinsella aerofaciens_H</th>\n",
       "      <th>s__Bifidobacterium breve</th>\n",
       "      <th>s__Prevotella sp900552675</th>\n",
       "      <th>s__Campylobacter infans</th>\n",
       "      <th>s__Anaerostipes hadrus</th>\n",
       "      <th>...</th>\n",
       "      <th>s__Senegalimassilia sp003474385</th>\n",
       "      <th>s__Agathobaculum butyriciproducens</th>\n",
       "      <th>s__Prevotella stercorea</th>\n",
       "      <th>s__Bacteroides uniformis</th>\n",
       "      <th>s__Prevotella merdae</th>\n",
       "      <th>s__CAG-510 sp000434615</th>\n",
       "      <th>s__Selenomonas_A sp900769615</th>\n",
       "      <th>s__Streptococcus salivarius_D</th>\n",
       "      <th>s__CAG-95 sp900066375</th>\n",
       "      <th>linear_growth</th>\n",
       "    </tr>\n",
       "    <tr>\n",
       "      <th>sample_id</th>\n",
       "      <th></th>\n",
       "      <th></th>\n",
       "      <th></th>\n",
       "      <th></th>\n",
       "      <th></th>\n",
       "      <th></th>\n",
       "      <th></th>\n",
       "      <th></th>\n",
       "      <th></th>\n",
       "      <th></th>\n",
       "      <th></th>\n",
       "      <th></th>\n",
       "      <th></th>\n",
       "      <th></th>\n",
       "      <th></th>\n",
       "      <th></th>\n",
       "      <th></th>\n",
       "      <th></th>\n",
       "      <th></th>\n",
       "      <th></th>\n",
       "      <th></th>\n",
       "    </tr>\n",
       "  </thead>\n",
       "  <tbody>\n",
       "    <tr>\n",
       "      <th>15889.776.FB01923395</th>\n",
       "      <td>138338</td>\n",
       "      <td>0</td>\n",
       "      <td>508377</td>\n",
       "      <td>0</td>\n",
       "      <td>0</td>\n",
       "      <td>0</td>\n",
       "      <td>0</td>\n",
       "      <td>0</td>\n",
       "      <td>0</td>\n",
       "      <td>122075</td>\n",
       "      <td>...</td>\n",
       "      <td>0</td>\n",
       "      <td>45237</td>\n",
       "      <td>73169</td>\n",
       "      <td>0</td>\n",
       "      <td>0</td>\n",
       "      <td>0</td>\n",
       "      <td>0</td>\n",
       "      <td>0</td>\n",
       "      <td>0</td>\n",
       "      <td>bad</td>\n",
       "    </tr>\n",
       "    <tr>\n",
       "      <th>15889.870.FB00259079</th>\n",
       "      <td>0</td>\n",
       "      <td>0</td>\n",
       "      <td>329303</td>\n",
       "      <td>0</td>\n",
       "      <td>0</td>\n",
       "      <td>710856</td>\n",
       "      <td>221640</td>\n",
       "      <td>0</td>\n",
       "      <td>646392</td>\n",
       "      <td>0</td>\n",
       "      <td>...</td>\n",
       "      <td>0</td>\n",
       "      <td>121819</td>\n",
       "      <td>0</td>\n",
       "      <td>0</td>\n",
       "      <td>0</td>\n",
       "      <td>0</td>\n",
       "      <td>0</td>\n",
       "      <td>0</td>\n",
       "      <td>0</td>\n",
       "      <td>bad</td>\n",
       "    </tr>\n",
       "    <tr>\n",
       "      <th>15889.776.FB01125857</th>\n",
       "      <td>345094</td>\n",
       "      <td>46800</td>\n",
       "      <td>0</td>\n",
       "      <td>0</td>\n",
       "      <td>0</td>\n",
       "      <td>84193</td>\n",
       "      <td>9745</td>\n",
       "      <td>0</td>\n",
       "      <td>98845</td>\n",
       "      <td>0</td>\n",
       "      <td>...</td>\n",
       "      <td>0</td>\n",
       "      <td>9802</td>\n",
       "      <td>59297</td>\n",
       "      <td>0</td>\n",
       "      <td>18773</td>\n",
       "      <td>0</td>\n",
       "      <td>0</td>\n",
       "      <td>0</td>\n",
       "      <td>0</td>\n",
       "      <td>bad</td>\n",
       "    </tr>\n",
       "    <tr>\n",
       "      <th>15889.776.FB00937119</th>\n",
       "      <td>178120</td>\n",
       "      <td>343616</td>\n",
       "      <td>97779</td>\n",
       "      <td>0</td>\n",
       "      <td>0</td>\n",
       "      <td>155593</td>\n",
       "      <td>0</td>\n",
       "      <td>0</td>\n",
       "      <td>728989</td>\n",
       "      <td>0</td>\n",
       "      <td>...</td>\n",
       "      <td>0</td>\n",
       "      <td>0</td>\n",
       "      <td>0</td>\n",
       "      <td>97653</td>\n",
       "      <td>35674</td>\n",
       "      <td>0</td>\n",
       "      <td>0</td>\n",
       "      <td>0</td>\n",
       "      <td>184184</td>\n",
       "      <td>bad</td>\n",
       "    </tr>\n",
       "    <tr>\n",
       "      <th>15889.776.FB00259711</th>\n",
       "      <td>0</td>\n",
       "      <td>0</td>\n",
       "      <td>344527</td>\n",
       "      <td>0</td>\n",
       "      <td>0</td>\n",
       "      <td>68007</td>\n",
       "      <td>39750</td>\n",
       "      <td>0</td>\n",
       "      <td>0</td>\n",
       "      <td>0</td>\n",
       "      <td>...</td>\n",
       "      <td>0</td>\n",
       "      <td>0</td>\n",
       "      <td>0</td>\n",
       "      <td>129128</td>\n",
       "      <td>0</td>\n",
       "      <td>0</td>\n",
       "      <td>0</td>\n",
       "      <td>0</td>\n",
       "      <td>0</td>\n",
       "      <td>bad</td>\n",
       "    </tr>\n",
       "    <tr>\n",
       "      <th>...</th>\n",
       "      <td>...</td>\n",
       "      <td>...</td>\n",
       "      <td>...</td>\n",
       "      <td>...</td>\n",
       "      <td>...</td>\n",
       "      <td>...</td>\n",
       "      <td>...</td>\n",
       "      <td>...</td>\n",
       "      <td>...</td>\n",
       "      <td>...</td>\n",
       "      <td>...</td>\n",
       "      <td>...</td>\n",
       "      <td>...</td>\n",
       "      <td>...</td>\n",
       "      <td>...</td>\n",
       "      <td>...</td>\n",
       "      <td>...</td>\n",
       "      <td>...</td>\n",
       "      <td>...</td>\n",
       "      <td>...</td>\n",
       "      <td>...</td>\n",
       "    </tr>\n",
       "    <tr>\n",
       "      <th>15889.641.FB00862889</th>\n",
       "      <td>0</td>\n",
       "      <td>0</td>\n",
       "      <td>0</td>\n",
       "      <td>54947</td>\n",
       "      <td>0</td>\n",
       "      <td>223444</td>\n",
       "      <td>41612</td>\n",
       "      <td>0</td>\n",
       "      <td>43098</td>\n",
       "      <td>197170</td>\n",
       "      <td>...</td>\n",
       "      <td>0</td>\n",
       "      <td>13281</td>\n",
       "      <td>21505</td>\n",
       "      <td>0</td>\n",
       "      <td>0</td>\n",
       "      <td>0</td>\n",
       "      <td>0</td>\n",
       "      <td>0</td>\n",
       "      <td>0</td>\n",
       "      <td>good</td>\n",
       "    </tr>\n",
       "    <tr>\n",
       "      <th>15889.641.FB00258801</th>\n",
       "      <td>0</td>\n",
       "      <td>0</td>\n",
       "      <td>0</td>\n",
       "      <td>65120</td>\n",
       "      <td>0</td>\n",
       "      <td>38142</td>\n",
       "      <td>0</td>\n",
       "      <td>0</td>\n",
       "      <td>249748</td>\n",
       "      <td>236822</td>\n",
       "      <td>...</td>\n",
       "      <td>0</td>\n",
       "      <td>0</td>\n",
       "      <td>0</td>\n",
       "      <td>0</td>\n",
       "      <td>0</td>\n",
       "      <td>0</td>\n",
       "      <td>0</td>\n",
       "      <td>0</td>\n",
       "      <td>0</td>\n",
       "      <td>good</td>\n",
       "    </tr>\n",
       "    <tr>\n",
       "      <th>15889.640.FB00258976</th>\n",
       "      <td>0</td>\n",
       "      <td>0</td>\n",
       "      <td>0</td>\n",
       "      <td>110917</td>\n",
       "      <td>0</td>\n",
       "      <td>0</td>\n",
       "      <td>38878</td>\n",
       "      <td>0</td>\n",
       "      <td>3806532</td>\n",
       "      <td>4036670</td>\n",
       "      <td>...</td>\n",
       "      <td>0</td>\n",
       "      <td>436758</td>\n",
       "      <td>0</td>\n",
       "      <td>0</td>\n",
       "      <td>0</td>\n",
       "      <td>0</td>\n",
       "      <td>0</td>\n",
       "      <td>0</td>\n",
       "      <td>0</td>\n",
       "      <td>good</td>\n",
       "    </tr>\n",
       "    <tr>\n",
       "      <th>15889.556.FB00941809</th>\n",
       "      <td>0</td>\n",
       "      <td>0</td>\n",
       "      <td>0</td>\n",
       "      <td>0</td>\n",
       "      <td>13795</td>\n",
       "      <td>0</td>\n",
       "      <td>0</td>\n",
       "      <td>0</td>\n",
       "      <td>0</td>\n",
       "      <td>0</td>\n",
       "      <td>...</td>\n",
       "      <td>0</td>\n",
       "      <td>0</td>\n",
       "      <td>65413</td>\n",
       "      <td>0</td>\n",
       "      <td>0</td>\n",
       "      <td>0</td>\n",
       "      <td>66846</td>\n",
       "      <td>0</td>\n",
       "      <td>0</td>\n",
       "      <td>good</td>\n",
       "    </tr>\n",
       "    <tr>\n",
       "      <th>15889.556.FB00936479</th>\n",
       "      <td>0</td>\n",
       "      <td>0</td>\n",
       "      <td>0</td>\n",
       "      <td>0</td>\n",
       "      <td>183397</td>\n",
       "      <td>0</td>\n",
       "      <td>0</td>\n",
       "      <td>0</td>\n",
       "      <td>0</td>\n",
       "      <td>0</td>\n",
       "      <td>...</td>\n",
       "      <td>0</td>\n",
       "      <td>0</td>\n",
       "      <td>0</td>\n",
       "      <td>0</td>\n",
       "      <td>0</td>\n",
       "      <td>0</td>\n",
       "      <td>171282</td>\n",
       "      <td>0</td>\n",
       "      <td>602444</td>\n",
       "      <td>good</td>\n",
       "    </tr>\n",
       "  </tbody>\n",
       "</table>\n",
       "<p>100 rows × 58 columns</p>\n",
       "</div>"
      ],
      "text/plain": [
       "                      s__Faecalibacterium_genus_unkn_species  \\\n",
       "sample_id                                                      \n",
       "15889.776.FB01923395                                  138338   \n",
       "15889.870.FB00259079                                       0   \n",
       "15889.776.FB01125857                                  345094   \n",
       "15889.776.FB00937119                                  178120   \n",
       "15889.776.FB00259711                                       0   \n",
       "...                                                      ...   \n",
       "15889.641.FB00862889                                       0   \n",
       "15889.641.FB00258801                                       0   \n",
       "15889.640.FB00258976                                       0   \n",
       "15889.556.FB00941809                                       0   \n",
       "15889.556.FB00936479                                       0   \n",
       "\n",
       "                      s__Prevotella sp022741625  s__Prevotella copri_C  \\\n",
       "sample_id                                                                \n",
       "15889.776.FB01923395                          0                 508377   \n",
       "15889.870.FB00259079                          0                 329303   \n",
       "15889.776.FB01125857                      46800                      0   \n",
       "15889.776.FB00937119                     343616                  97779   \n",
       "15889.776.FB00259711                          0                 344527   \n",
       "...                                         ...                    ...   \n",
       "15889.641.FB00862889                          0                      0   \n",
       "15889.641.FB00258801                          0                      0   \n",
       "15889.640.FB00258976                          0                      0   \n",
       "15889.556.FB00941809                          0                      0   \n",
       "15889.556.FB00936479                          0                      0   \n",
       "\n",
       "                      s__Streptococcus sp000187445  \\\n",
       "sample_id                                            \n",
       "15889.776.FB01923395                             0   \n",
       "15889.870.FB00259079                             0   \n",
       "15889.776.FB01125857                             0   \n",
       "15889.776.FB00937119                             0   \n",
       "15889.776.FB00259711                             0   \n",
       "...                                            ...   \n",
       "15889.641.FB00862889                         54947   \n",
       "15889.641.FB00258801                         65120   \n",
       "15889.640.FB00258976                        110917   \n",
       "15889.556.FB00941809                             0   \n",
       "15889.556.FB00936479                             0   \n",
       "\n",
       "                      s__Acetatifactor sp003447295  \\\n",
       "sample_id                                            \n",
       "15889.776.FB01923395                             0   \n",
       "15889.870.FB00259079                             0   \n",
       "15889.776.FB01125857                             0   \n",
       "15889.776.FB00937119                             0   \n",
       "15889.776.FB00259711                             0   \n",
       "...                                            ...   \n",
       "15889.641.FB00862889                             0   \n",
       "15889.641.FB00258801                             0   \n",
       "15889.640.FB00258976                             0   \n",
       "15889.556.FB00941809                         13795   \n",
       "15889.556.FB00936479                        183397   \n",
       "\n",
       "                      s__Collinsella aerofaciens_H  s__Bifidobacterium breve  \\\n",
       "sample_id                                                                      \n",
       "15889.776.FB01923395                             0                         0   \n",
       "15889.870.FB00259079                        710856                    221640   \n",
       "15889.776.FB01125857                         84193                      9745   \n",
       "15889.776.FB00937119                        155593                         0   \n",
       "15889.776.FB00259711                         68007                     39750   \n",
       "...                                            ...                       ...   \n",
       "15889.641.FB00862889                        223444                     41612   \n",
       "15889.641.FB00258801                         38142                         0   \n",
       "15889.640.FB00258976                             0                     38878   \n",
       "15889.556.FB00941809                             0                         0   \n",
       "15889.556.FB00936479                             0                         0   \n",
       "\n",
       "                      s__Prevotella sp900552675  s__Campylobacter infans  \\\n",
       "sample_id                                                                  \n",
       "15889.776.FB01923395                          0                        0   \n",
       "15889.870.FB00259079                          0                   646392   \n",
       "15889.776.FB01125857                          0                    98845   \n",
       "15889.776.FB00937119                          0                   728989   \n",
       "15889.776.FB00259711                          0                        0   \n",
       "...                                         ...                      ...   \n",
       "15889.641.FB00862889                          0                    43098   \n",
       "15889.641.FB00258801                          0                   249748   \n",
       "15889.640.FB00258976                          0                  3806532   \n",
       "15889.556.FB00941809                          0                        0   \n",
       "15889.556.FB00936479                          0                        0   \n",
       "\n",
       "                      s__Anaerostipes hadrus  ...  \\\n",
       "sample_id                                     ...   \n",
       "15889.776.FB01923395                  122075  ...   \n",
       "15889.870.FB00259079                       0  ...   \n",
       "15889.776.FB01125857                       0  ...   \n",
       "15889.776.FB00937119                       0  ...   \n",
       "15889.776.FB00259711                       0  ...   \n",
       "...                                      ...  ...   \n",
       "15889.641.FB00862889                  197170  ...   \n",
       "15889.641.FB00258801                  236822  ...   \n",
       "15889.640.FB00258976                 4036670  ...   \n",
       "15889.556.FB00941809                       0  ...   \n",
       "15889.556.FB00936479                       0  ...   \n",
       "\n",
       "                      s__Senegalimassilia sp003474385  \\\n",
       "sample_id                                               \n",
       "15889.776.FB01923395                                0   \n",
       "15889.870.FB00259079                                0   \n",
       "15889.776.FB01125857                                0   \n",
       "15889.776.FB00937119                                0   \n",
       "15889.776.FB00259711                                0   \n",
       "...                                               ...   \n",
       "15889.641.FB00862889                                0   \n",
       "15889.641.FB00258801                                0   \n",
       "15889.640.FB00258976                                0   \n",
       "15889.556.FB00941809                                0   \n",
       "15889.556.FB00936479                                0   \n",
       "\n",
       "                      s__Agathobaculum butyriciproducens  \\\n",
       "sample_id                                                  \n",
       "15889.776.FB01923395                               45237   \n",
       "15889.870.FB00259079                              121819   \n",
       "15889.776.FB01125857                                9802   \n",
       "15889.776.FB00937119                                   0   \n",
       "15889.776.FB00259711                                   0   \n",
       "...                                                  ...   \n",
       "15889.641.FB00862889                               13281   \n",
       "15889.641.FB00258801                                   0   \n",
       "15889.640.FB00258976                              436758   \n",
       "15889.556.FB00941809                                   0   \n",
       "15889.556.FB00936479                                   0   \n",
       "\n",
       "                      s__Prevotella stercorea  s__Bacteroides uniformis  \\\n",
       "sample_id                                                                 \n",
       "15889.776.FB01923395                    73169                         0   \n",
       "15889.870.FB00259079                        0                         0   \n",
       "15889.776.FB01125857                    59297                         0   \n",
       "15889.776.FB00937119                        0                     97653   \n",
       "15889.776.FB00259711                        0                    129128   \n",
       "...                                       ...                       ...   \n",
       "15889.641.FB00862889                    21505                         0   \n",
       "15889.641.FB00258801                        0                         0   \n",
       "15889.640.FB00258976                        0                         0   \n",
       "15889.556.FB00941809                    65413                         0   \n",
       "15889.556.FB00936479                        0                         0   \n",
       "\n",
       "                      s__Prevotella merdae  s__CAG-510 sp000434615  \\\n",
       "sample_id                                                            \n",
       "15889.776.FB01923395                     0                       0   \n",
       "15889.870.FB00259079                     0                       0   \n",
       "15889.776.FB01125857                 18773                       0   \n",
       "15889.776.FB00937119                 35674                       0   \n",
       "15889.776.FB00259711                     0                       0   \n",
       "...                                    ...                     ...   \n",
       "15889.641.FB00862889                     0                       0   \n",
       "15889.641.FB00258801                     0                       0   \n",
       "15889.640.FB00258976                     0                       0   \n",
       "15889.556.FB00941809                     0                       0   \n",
       "15889.556.FB00936479                     0                       0   \n",
       "\n",
       "                      s__Selenomonas_A sp900769615  \\\n",
       "sample_id                                            \n",
       "15889.776.FB01923395                             0   \n",
       "15889.870.FB00259079                             0   \n",
       "15889.776.FB01125857                             0   \n",
       "15889.776.FB00937119                             0   \n",
       "15889.776.FB00259711                             0   \n",
       "...                                            ...   \n",
       "15889.641.FB00862889                             0   \n",
       "15889.641.FB00258801                             0   \n",
       "15889.640.FB00258976                             0   \n",
       "15889.556.FB00941809                         66846   \n",
       "15889.556.FB00936479                        171282   \n",
       "\n",
       "                      s__Streptococcus salivarius_D  s__CAG-95 sp900066375  \\\n",
       "sample_id                                                                    \n",
       "15889.776.FB01923395                              0                      0   \n",
       "15889.870.FB00259079                              0                      0   \n",
       "15889.776.FB01125857                              0                      0   \n",
       "15889.776.FB00937119                              0                 184184   \n",
       "15889.776.FB00259711                              0                      0   \n",
       "...                                             ...                    ...   \n",
       "15889.641.FB00862889                              0                      0   \n",
       "15889.641.FB00258801                              0                      0   \n",
       "15889.640.FB00258976                              0                      0   \n",
       "15889.556.FB00941809                              0                      0   \n",
       "15889.556.FB00936479                              0                 602444   \n",
       "\n",
       "                      linear_growth  \n",
       "sample_id                            \n",
       "15889.776.FB01923395            bad  \n",
       "15889.870.FB00259079            bad  \n",
       "15889.776.FB01125857            bad  \n",
       "15889.776.FB00937119            bad  \n",
       "15889.776.FB00259711            bad  \n",
       "...                             ...  \n",
       "15889.641.FB00862889           good  \n",
       "15889.641.FB00258801           good  \n",
       "15889.640.FB00258976           good  \n",
       "15889.556.FB00941809           good  \n",
       "15889.556.FB00936479           good  \n",
       "\n",
       "[100 rows x 58 columns]"
      ]
     },
     "execution_count": 40,
     "metadata": {},
     "output_type": "execute_result"
    }
   ],
   "source": [
    "# sort feature table by the order good.hsid.timepoint  or bad.hsid.timepoint\n",
    "shared_sorted=shared.sort_values(\"linear_growth\")\n",
    "shared_sorted.head(100)"
   ]
  },
  {
   "cell_type": "code",
   "execution_count": 41,
   "id": "5949207a",
   "metadata": {},
   "outputs": [],
   "source": [
    "features_only=shared_sorted.drop(columns=[\"linear_growth\"])"
   ]
  },
  {
   "cell_type": "code",
   "execution_count": 42,
   "id": "3cbe3206",
   "metadata": {},
   "outputs": [],
   "source": [
    "#square root transform to improve Viz\n",
    "sqrt_features_only=np.sqrt(features_only)"
   ]
  },
  {
   "cell_type": "code",
   "execution_count": 268,
   "id": "de7940aa",
   "metadata": {},
   "outputs": [
    {
     "data": {
      "image/png": "[encoded data removed]",
      "text/plain": [
       "<Figure size 72x288 with 1 Axes>"
      ]
     },
     "metadata": {
      "needs_background": "light"
     },
     "output_type": "display_data"
    }
   ],
   "source": [
    "plt.figure(figsize=(1,4))\n",
    "colors=[\"skyblue\", \"salmon\"]\n",
    "a=sns.barplot(data=shared, x=\"linear_growth\", y=\"s__Faecalibacterium_genus_unkn_species\", palette=colors)\n",
    "a.set(xlabel=None)\n",
    "plt.savefig(\"results/s__Faecalibacterium_genus_unkn_species.png\", dpi=600,bbox_inches=\"tight\")\n"
   ]
  },
  {
   "cell_type": "code",
   "execution_count": 269,
   "id": "0bdd6aae",
   "metadata": {},
   "outputs": [
    {
     "data": {
      "image/png": "[encoded data removed]",
      "text/plain": [
       "<Figure size 72x288 with 1 Axes>"
      ]
     },
     "metadata": {
      "needs_background": "light"
     },
     "output_type": "display_data"
    }
   ],
   "source": [
    "plt.figure(figsize=(1,4))\n",
    "colors=[\"skyblue\", \"salmon\"]\n",
    "a=sns.barplot(data=shared, x=\"linear_growth\", y=\"s__Prevotella sp022741625\", palette=colors)\n",
    "a.set(xlabel=None)\n",
    "plt.savefig(\"results/s__Prevotella sp022741625.png\", dpi=600,bbox_inches=\"tight\")\n"
   ]
  },
  {
   "cell_type": "code",
   "execution_count": 270,
   "id": "accb5079",
   "metadata": {},
   "outputs": [
    {
     "data": {
      "image/png": "[encoded data removed]",
      "text/plain": [
       "<Figure size 72x288 with 1 Axes>"
      ]
     },
     "metadata": {
      "needs_background": "light"
     },
     "output_type": "display_data"
    }
   ],
   "source": [
    "plt.figure(figsize=(1,4))\n",
    "colors=[\"skyblue\", \"salmon\"]\n",
    "a=sns.barplot(data=shared, x=\"linear_growth\", y=\"s__Prevotella copri_C\", palette=colors)\n",
    "a.set(xlabel=None)\n",
    "plt.savefig(\"results/s__Prevotella copri_C.png\", dpi=600,bbox_inches=\"tight\")\n"
   ]
  },
  {
   "cell_type": "code",
   "execution_count": 271,
   "id": "03ca6fd1",
   "metadata": {},
   "outputs": [],
   "source": [
    "plt.subplots?"
   ]
  },
  {
   "cell_type": "code",
   "execution_count": 272,
   "id": "0723eac3",
   "metadata": {},
   "outputs": [],
   "source": [
    "#example how to make subplots\n",
    "#fig,axes=plt.subplots(2,3, figsize=(6,6)) #indicates the shape\n",
    "#colors=[\"skyblue\", \"salmon\"]\n",
    "#sns.barplot(data=shared, x=\"linear_growth\", y=\"s__Streptococcus sp000187445\", palette=colors,ax=axes[0][1]) # row,column: 0,0 top left, 0,1\n",
    "#a.set(xlabel=None)\n",
    "#plt.savefig(\"results/s__Streptococcus sp000187445.png\", dpi=600,bbox_inches=\"tight\")\n"
   ]
  },
  {
   "cell_type": "code",
   "execution_count": 273,
   "id": "6525922c",
   "metadata": {},
   "outputs": [
    {
     "data": {
      "image/png": "[encoded data removed]",
      "text/plain": [
       "<Figure size 72x288 with 1 Axes>"
      ]
     },
     "metadata": {
      "needs_background": "light"
     },
     "output_type": "display_data"
    }
   ],
   "source": [
    "plt.figure(figsize=(1,4))\n",
    "colors=[\"skyblue\", \"salmon\"]\n",
    "a=sns.barplot(data=shared, x=\"linear_growth\", y=\"s__Streptococcus sp000187445\", palette=colors) # row,column: 0,0 top left, 0,1\n",
    "a.set(xlabel=None)\n",
    "plt.savefig(\"results/s__Streptococcus sp000187445.png\", dpi=600,bbox_inches=\"tight\")\n"
   ]
  },
  {
   "cell_type": "code",
   "execution_count": 274,
   "id": "f7c6fbc0",
   "metadata": {},
   "outputs": [
    {
     "data": {
      "image/png": "[encoded data removed]",
      "text/plain": [
       "<Figure size 72x288 with 1 Axes>"
      ]
     },
     "metadata": {
      "needs_background": "light"
     },
     "output_type": "display_data"
    }
   ],
   "source": [
    "plt.figure(figsize=(1,4))\n",
    "colors=[\"skyblue\", \"salmon\"]\n",
    "a=sns.barplot(data=shared, x=\"linear_growth\", y=\"s__Acetatifactor sp003447295\", palette=colors)\n",
    "a.set(xlabel=None)\n",
    "plt.savefig(\"results/s__Acetatifactor sp003447295.png\", dpi=600,bbox_inches=\"tight\")\n"
   ]
  },
  {
   "cell_type": "code",
   "execution_count": 275,
   "id": "499d7202",
   "metadata": {},
   "outputs": [
    {
     "data": {
      "image/png": "[encoded data removed]",
      "text/plain": [
       "<Figure size 72x288 with 1 Axes>"
      ]
     },
     "metadata": {
      "needs_background": "light"
     },
     "output_type": "display_data"
    }
   ],
   "source": [
    "plt.figure(figsize=(1,4))\n",
    "colors=[\"skyblue\", \"salmon\"]\n",
    "a=sns.barplot(data=shared, x=\"linear_growth\", y=\"s__Collinsella aerofaciens_H\", palette=colors)\n",
    "a.set(xlabel=None)\n",
    "\n",
    "plt.savefig(\"results/s__Collinsella aerofaciens_H.png\", dpi=600,bbox_inches=\"tight\")\n"
   ]
  },
  {
   "cell_type": "code",
   "execution_count": 276,
   "id": "42dd49de",
   "metadata": {},
   "outputs": [
    {
     "data": {
      "image/png": "[encoded data removed]",
      "text/plain": [
       "<Figure size 72x288 with 1 Axes>"
      ]
     },
     "metadata": {
      "needs_background": "light"
     },
     "output_type": "display_data"
    }
   ],
   "source": [
    "plt.figure(figsize=(1,4))\n",
    "colors=[\"skyblue\", \"salmon\"]\n",
    "a=sns.barplot(data=shared, x=\"linear_growth\", y=\"s__Bifidobacterium breve\", palette=colors)\n",
    "a.set(xlabel=None)\n",
    "\n",
    "plt.savefig(\"results/s__Bifidobacterium breve.png\", dpi=600,bbox_inches=\"tight\")\n"
   ]
  },
  {
   "cell_type": "code",
   "execution_count": 277,
   "id": "1908e97f",
   "metadata": {},
   "outputs": [
    {
     "data": {
      "image/png": "[encoded data removed]",
      "text/plain": [
       "<Figure size 72x288 with 1 Axes>"
      ]
     },
     "metadata": {
      "needs_background": "light"
     },
     "output_type": "display_data"
    }
   ],
   "source": [
    "plt.figure(figsize=(1,4))\n",
    "colors=[\"skyblue\", \"salmon\"]\n",
    "a=sns.barplot(data=shared, x=\"linear_growth\", y=\"s__Prevotella sp900552675\", palette=colors)\n",
    "a.set(xlabel=None)\n",
    "plt.savefig(\"results/s__Prevotella sp900552675.png\", dpi=600,bbox_inches=\"tight\")\n"
   ]
  },
  {
   "cell_type": "code",
   "execution_count": 278,
   "id": "6ce7520a",
   "metadata": {},
   "outputs": [
    {
     "data": {
      "image/png": "[encoded data removed]",
      "text/plain": [
       "<Figure size 72x288 with 1 Axes>"
      ]
     },
     "metadata": {
      "needs_background": "light"
     },
     "output_type": "display_data"
    }
   ],
   "source": [
    "plt.figure(figsize=(1,4))\n",
    "colors=[\"skyblue\", \"salmon\"]\n",
    "a=sns.barplot(data=shared, x=\"linear_growth\", y=\"s__Campylobacter infans\", palette=colors)\n",
    "a.set(xlabel=None)\n",
    "plt.savefig(\"results/s__Campylobacter infans.png\", dpi=600,bbox_inches=\"tight\")\n"
   ]
  },
  {
   "cell_type": "code",
   "execution_count": 279,
   "id": "42dfecdf",
   "metadata": {},
   "outputs": [
    {
     "data": {
      "image/png": "[encoded data removed]",
      "text/plain": [
       "<Figure size 72x288 with 1 Axes>"
      ]
     },
     "metadata": {
      "needs_background": "light"
     },
     "output_type": "display_data"
    }
   ],
   "source": [
    "plt.figure(figsize=(1,4))\n",
    "colors=[\"skyblue\", \"salmon\"]\n",
    "a=sns.barplot(data=shared, x=\"linear_growth\", y=\"s__Anaerostipes hadrus\", palette=colors)\n",
    "a.set(xlabel=None)\n",
    "plt.savefig(\"results/s__Anaerostipes hadrus.png\", dpi=600,bbox_inches=\"tight\")\n"
   ]
  },
  {
   "cell_type": "code",
   "execution_count": 280,
   "id": "265c7526",
   "metadata": {},
   "outputs": [
    {
     "data": {
      "image/png": "[encoded data removed]",
      "text/plain": [
       "<Figure size 72x288 with 1 Axes>"
      ]
     },
     "metadata": {
      "needs_background": "light"
     },
     "output_type": "display_data"
    }
   ],
   "source": [
    "plt.figure(figsize=(1,4))\n",
    "colors=[\"skyblue\", \"salmon\"]\n",
    "a=sns.barplot(data=shared, x=\"linear_growth\", y=\"s__Streptococcus salivarius\", palette=colors)\n",
    "a.set(xlabel=None)\n",
    "plt.savefig(\"results/s__Streptococcus salivarius.png\", dpi=600,bbox_inches=\"tight\")\n"
   ]
  },
  {
   "cell_type": "code",
   "execution_count": 281,
   "id": "a70091b0",
   "metadata": {},
   "outputs": [
    {
     "data": {
      "image/png": "[encoded data removed]",
      "text/plain": [
       "<Figure size 72x288 with 1 Axes>"
      ]
     },
     "metadata": {
      "needs_background": "light"
     },
     "output_type": "display_data"
    }
   ],
   "source": [
    "plt.figure(figsize=(1,4))\n",
    "colors=[\"skyblue\", \"salmon\"]\n",
    "a=sns.barplot(data=shared, x=\"linear_growth\", y=\"s__Roseburia inulinivorans\", palette=colors)\n",
    "a.set(xlabel=None)\n",
    "plt.savefig(\"results/s__Roseburia inulinivorans.png\", dpi=600,bbox_inches=\"tight\")\n"
   ]
  },
  {
   "cell_type": "code",
   "execution_count": 282,
   "id": "66eb346c",
   "metadata": {},
   "outputs": [
    {
     "data": {
      "image/png": "[encoded data removed]",
      "text/plain": [
       "<Figure size 72x288 with 1 Axes>"
      ]
     },
     "metadata": {
      "needs_background": "light"
     },
     "output_type": "display_data"
    }
   ],
   "source": [
    "plt.figure(figsize=(1,4))\n",
    "colors=[\"skyblue\", \"salmon\"]\n",
    "a=sns.barplot(data=shared, x=\"linear_growth\", y=\"s__Streptococcus_genus_unkn_species\", palette=colors)\n",
    "a.set(xlabel=None)\n",
    "plt.savefig(\"results/s__Streptococcus_genus_unkn_species.png\", dpi=600,bbox_inches=\"tight\")\n"
   ]
  },
  {
   "cell_type": "code",
   "execution_count": 283,
   "id": "be133c9c",
   "metadata": {},
   "outputs": [
    {
     "data": {
      "image/png": "[encoded data removed]",
      "text/plain": [
       "<Figure size 72x288 with 1 Axes>"
      ]
     },
     "metadata": {
      "needs_background": "light"
     },
     "output_type": "display_data"
    }
   ],
   "source": [
    "plt.figure(figsize=(1,4))\n",
    "colors=[\"skyblue\", \"salmon\"]\n",
    "a=sns.barplot(data=shared, x=\"linear_growth\", y=\"s__Streptococcus sp934229725\", palette=colors)\n",
    "a.set(xlabel=None)\n",
    "plt.savefig(\"results/s__Streptococcus sp934229725.png\", dpi=600,bbox_inches=\"tight\")\n"
   ]
  },
  {
   "cell_type": "code",
   "execution_count": 284,
   "id": "29c1c050",
   "metadata": {},
   "outputs": [
    {
     "data": {
      "image/png": "[encoded data removed]",
      "text/plain": [
       "<Figure size 72x288 with 1 Axes>"
      ]
     },
     "metadata": {
      "needs_background": "light"
     },
     "output_type": "display_data"
    }
   ],
   "source": [
    "plt.figure(figsize=(1,4))\n",
    "colors=[\"skyblue\", \"salmon\"]\n",
    "a=sns.barplot(data=shared, x=\"linear_growth\", y=\"s__Bifidobacterium kashiwanohense_A\", palette=colors)\n",
    "a.set(xlabel=None)\n",
    "plt.savefig(\"results/s__Bifidobacterium kashiwanohense_A.png\", dpi=600,bbox_inches=\"tight\")\n"
   ]
  },
  {
   "cell_type": "code",
   "execution_count": 285,
   "id": "d3c9b934",
   "metadata": {},
   "outputs": [
    {
     "data": {
      "image/png": "[encoded data removed]",
      "text/plain": [
       "<Figure size 72x288 with 1 Axes>"
      ]
     },
     "metadata": {
      "needs_background": "light"
     },
     "output_type": "display_data"
    }
   ],
   "source": [
    "plt.figure(figsize=(1,4))\n",
    "colors=[\"skyblue\", \"salmon\"]\n",
    "a=sns.barplot(data=shared, x=\"linear_growth\", y=\"s__Prevotella sp900290275\", palette=colors)\n",
    "a.set(xlabel=None)\n",
    "plt.savefig(\"results/s__Prevotella sp900290275.png\", dpi=600,bbox_inches=\"tight\")\n"
   ]
  },
  {
   "cell_type": "code",
   "execution_count": 286,
   "id": "91771085",
   "metadata": {},
   "outputs": [
    {
     "data": {
      "image/png": "[encoded data removed]",
      "text/plain": [
       "<Figure size 72x288 with 1 Axes>"
      ]
     },
     "metadata": {
      "needs_background": "light"
     },
     "output_type": "display_data"
    }
   ],
   "source": [
    "plt.figure(figsize=(1,4))\n",
    "colors=[\"skyblue\", \"salmon\"]\n",
    "a=sns.barplot(data=shared, x=\"linear_growth\", y=\"s__Limisoma sp000437795\", palette=colors)\n",
    "a.set(xlabel=None)\n",
    "plt.savefig(\"results/s__Limisoma sp000437795.png\", dpi=600,bbox_inches=\"tight\")\n"
   ]
  },
  {
   "cell_type": "code",
   "execution_count": 287,
   "id": "ccc4210a",
   "metadata": {},
   "outputs": [
    {
     "data": {
      "image/png": "[encoded data removed]",
      "text/plain": [
       "<Figure size 72x288 with 1 Axes>"
      ]
     },
     "metadata": {
      "needs_background": "light"
     },
     "output_type": "display_data"
    }
   ],
   "source": [
    "plt.figure(figsize=(1,4))\n",
    "colors=[\"skyblue\", \"salmon\"]\n",
    "a=sns.barplot(data=shared, x=\"linear_growth\", y=\"s__Selenomonadaceae_family_unkn_genus_unkn_species\", palette=colors)\n",
    "a.set(xlabel=None)\n",
    "plt.savefig(\"results/s__Selenomonadaceae_family_unkn_genus_unkn_species.png\", dpi=600,bbox_inches=\"tight\")\n"
   ]
  },
  {
   "cell_type": "code",
   "execution_count": 288,
   "id": "7323061c",
   "metadata": {},
   "outputs": [
    {
     "data": {
      "image/png": "[encoded data removed]",
      "text/plain": [
       "<Figure size 72x288 with 1 Axes>"
      ]
     },
     "metadata": {
      "needs_background": "light"
     },
     "output_type": "display_data"
    }
   ],
   "source": [
    "plt.figure(figsize=(1,4))\n",
    "colors=[\"skyblue\", \"salmon\"]\n",
    "a=sns.barplot(data=shared, x=\"linear_growth\", y=\"s__Helicobacter_B fennelliae\", palette=colors)\n",
    "a.set(xlabel=None)\n",
    "plt.savefig(\"results/s__Helicobacter_B fennelliae.png\", dpi=600,bbox_inches=\"tight\")\n"
   ]
  },
  {
   "cell_type": "code",
   "execution_count": 289,
   "id": "8366bf84",
   "metadata": {},
   "outputs": [
    {
     "data": {
      "image/png": "[encoded data removed]",
      "text/plain": [
       "<Figure size 72x288 with 1 Axes>"
      ]
     },
     "metadata": {
      "needs_background": "light"
     },
     "output_type": "display_data"
    }
   ],
   "source": [
    "plt.figure(figsize=(1,4))\n",
    "colors=[\"skyblue\", \"salmon\"]\n",
    "a=sns.barplot(data=shared, x=\"linear_growth\", y=\"s__CAG-882 sp003486385\", palette=colors)\n",
    "a.set(xlabel=None)\n",
    "plt.savefig(\"results/s__CAG-882 sp003486385.png\", dpi=600,bbox_inches=\"tight\")\n"
   ]
  },
  {
   "cell_type": "code",
   "execution_count": 290,
   "id": "ac7dfb44",
   "metadata": {},
   "outputs": [
    {
     "data": {
      "image/png": "[encoded data removed]",
      "text/plain": [
       "<Figure size 72x288 with 1 Axes>"
      ]
     },
     "metadata": {
      "needs_background": "light"
     },
     "output_type": "display_data"
    }
   ],
   "source": [
    "plt.figure(figsize=(1,4))\n",
    "colors=[\"skyblue\", \"salmon\"]\n",
    "a=sns.barplot(data=shared, x=\"linear_growth\", y=\"s__Bifidobacterium bifidum\", palette=colors)\n",
    "a.set(xlabel=None)\n",
    "plt.savefig(\"results/s__Bifidobacterium bifidum.png\", dpi=600,bbox_inches=\"tight\")\n"
   ]
  },
  {
   "cell_type": "code",
   "execution_count": 291,
   "id": "83a25f84",
   "metadata": {},
   "outputs": [
    {
     "data": {
      "image/png": "[encoded data removed]",
      "text/plain": [
       "<Figure size 72x288 with 1 Axes>"
      ]
     },
     "metadata": {
      "needs_background": "light"
     },
     "output_type": "display_data"
    }
   ],
   "source": [
    "plt.figure(figsize=(1,4))\n",
    "colors=[\"skyblue\", \"salmon\"]\n",
    "a=sns.barplot(data=shared, x=\"linear_growth\", y=\"s__Faecalibacterium sp003449675\", palette=colors)\n",
    "a.set(xlabel=None)\n",
    "plt.savefig(\"results/s__Faecalibacterium sp003449675.png\", dpi=600,bbox_inches=\"tight\")\n"
   ]
  },
  {
   "cell_type": "code",
   "execution_count": 292,
   "id": "b3e2deab",
   "metadata": {},
   "outputs": [
    {
     "data": {
      "image/png": "[encoded data removed]",
      "text/plain": [
       "<Figure size 72x288 with 1 Axes>"
      ]
     },
     "metadata": {
      "needs_background": "light"
     },
     "output_type": "display_data"
    }
   ],
   "source": [
    "plt.figure(figsize=(1,4))\n",
    "colors=[\"skyblue\", \"salmon\"]\n",
    "a=sns.barplot(data=shared, x=\"linear_growth\", y=\"s__Blautia_A wexlerae\", palette=colors)\n",
    "a.set(xlabel=None)\n",
    "plt.savefig(\"results/s__Blautia_A wexlerae.png\", dpi=600,bbox_inches=\"tight\")\n"
   ]
  },
  {
   "cell_type": "code",
   "execution_count": 293,
   "id": "904a25fa",
   "metadata": {},
   "outputs": [
    {
     "data": {
      "image/png": "[encoded data removed]",
      "text/plain": [
       "<Figure size 72x288 with 1 Axes>"
      ]
     },
     "metadata": {
      "needs_background": "light"
     },
     "output_type": "display_data"
    }
   ],
   "source": [
    "plt.figure(figsize=(1,4))\n",
    "colors=[\"skyblue\", \"salmon\"]\n",
    "a=sns.barplot(data=shared, x=\"linear_growth\", y=\"s__Prevotella sp900546575\", palette=colors)\n",
    "a.set(xlabel=None)\n",
    "plt.savefig(\"results/s__Prevotella sp900546575.png\", dpi=600,bbox_inches=\"tight\")\n"
   ]
  },
  {
   "cell_type": "code",
   "execution_count": 294,
   "id": "a337d147",
   "metadata": {},
   "outputs": [
    {
     "data": {
      "image/png": "[encoded data removed]",
      "text/plain": [
       "<Figure size 72x288 with 1 Axes>"
      ]
     },
     "metadata": {
      "needs_background": "light"
     },
     "output_type": "display_data"
    }
   ],
   "source": [
    "plt.figure(figsize=(1,4))\n",
    "colors=[\"skyblue\", \"salmon\"]\n",
    "a=sns.barplot(data=shared, x=\"linear_growth\", y=\"s__Prevotella sp021636625\", palette=colors)\n",
    "a.set(xlabel=None)\n",
    "plt.savefig(\"results/s__Prevotella sp021636625.png\", dpi=600,bbox_inches=\"tight\")\n"
   ]
  },
  {
   "cell_type": "code",
   "execution_count": 295,
   "id": "ac16e237",
   "metadata": {},
   "outputs": [
    {
     "data": {
      "image/png": "[encoded data removed]",
      "text/plain": [
       "<Figure size 72x288 with 1 Axes>"
      ]
     },
     "metadata": {
      "needs_background": "light"
     },
     "output_type": "display_data"
    }
   ],
   "source": [
    "plt.figure(figsize=(1,4))\n",
    "colors=[\"skyblue\", \"salmon\"]\n",
    "a=sns.barplot(data=shared, x=\"linear_growth\", y=\"s__Faecalibacterium prausnitzii_A\", palette=colors)\n",
    "a.set(xlabel=None)\n",
    "plt.savefig(\"results/s__Faecalibacterium prausnitzii_A.png\", dpi=600,bbox_inches=\"tight\")\n"
   ]
  },
  {
   "cell_type": "code",
   "execution_count": 296,
   "id": "26681fda",
   "metadata": {},
   "outputs": [
    {
     "data": {
      "image/png": "[encoded data removed]",
      "text/plain": [
       "<Figure size 72x288 with 1 Axes>"
      ]
     },
     "metadata": {
      "needs_background": "light"
     },
     "output_type": "display_data"
    }
   ],
   "source": [
    "plt.figure(figsize=(1,4))\n",
    "colors=[\"skyblue\", \"salmon\"]\n",
    "a=sns.barplot(data=shared, x=\"linear_growth\", y=\"s__Sutterella wadsworthensis\", palette=colors)\n",
    "a.set(xlabel=None)\n",
    "plt.savefig(\"results/s__Sutterella wadsworthensis.png\", dpi=600,bbox_inches=\"tight\")\n"
   ]
  },
  {
   "cell_type": "code",
   "execution_count": 297,
   "id": "4f148a9a",
   "metadata": {},
   "outputs": [
    {
     "data": {
      "image/png": "[encoded data removed]",
      "text/plain": [
       "<Figure size 72x288 with 1 Axes>"
      ]
     },
     "metadata": {
      "needs_background": "light"
     },
     "output_type": "display_data"
    }
   ],
   "source": [
    "plt.figure(figsize=(1,4))\n",
    "colors=[\"skyblue\", \"salmon\"]\n",
    "a=sns.barplot(data=shared, x=\"linear_growth\", y=\"s__Parolsenella uli_B\", palette=colors)\n",
    "a.set(xlabel=None)\n",
    "plt.savefig(\"results/s__Parolsenella uli_B.png\", dpi=600,bbox_inches=\"tight\")\n"
   ]
  },
  {
   "cell_type": "code",
   "execution_count": 298,
   "id": "efda41df",
   "metadata": {},
   "outputs": [
    {
     "data": {
      "image/png": "[encoded data removed]",
      "text/plain": [
       "<Figure size 72x288 with 1 Axes>"
      ]
     },
     "metadata": {
      "needs_background": "light"
     },
     "output_type": "display_data"
    }
   ],
   "source": [
    "plt.figure(figsize=(1,4))\n",
    "colors=[\"skyblue\", \"salmon\"]\n",
    "a=sns.barplot(data=shared, x=\"linear_growth\", y=\"s__Prevotella sp900551275\", palette=colors)\n",
    "a.set(xlabel=None)\n",
    "plt.savefig(\"results/s__Prevotella sp900551275.png\", dpi=600,bbox_inches=\"tight\")\n"
   ]
  },
  {
   "cell_type": "code",
   "execution_count": 299,
   "id": "ff12d643",
   "metadata": {},
   "outputs": [
    {
     "data": {
      "image/png": "[encoded data removed]",
      "text/plain": [
       "<Figure size 72x288 with 1 Axes>"
      ]
     },
     "metadata": {
      "needs_background": "light"
     },
     "output_type": "display_data"
    }
   ],
   "source": [
    "plt.figure(figsize=(1,4))\n",
    "colors=[\"skyblue\", \"salmon\"]\n",
    "a=sns.barplot(data=shared, x=\"linear_growth\", y=\"s__Cryptobacteroides sp000435075\", palette=colors)\n",
    "a.set(xlabel=None)\n",
    "plt.savefig(\"results/s__Cryptobacteroides sp000435075.png\", dpi=600,bbox_inches=\"tight\")\n"
   ]
  },
  {
   "cell_type": "code",
   "execution_count": 300,
   "id": "a1609c28",
   "metadata": {},
   "outputs": [
    {
     "data": {
      "image/png": "[encoded data removed]",
      "text/plain": [
       "<Figure size 72x288 with 1 Axes>"
      ]
     },
     "metadata": {
      "needs_background": "light"
     },
     "output_type": "display_data"
    }
   ],
   "source": [
    "plt.figure(figsize=(1,4))\n",
    "colors=[\"skyblue\", \"salmon\"]\n",
    "a=sns.barplot(data=shared, x=\"linear_growth\", y=\"s__Acetatifactor intestinalis\", palette=colors)\n",
    "a.set(xlabel=None)\n",
    "plt.savefig(\"results/s__Acetatifactor intestinalis.png\", dpi=600,bbox_inches=\"tight\")\n"
   ]
  },
  {
   "cell_type": "code",
   "execution_count": 301,
   "id": "466cc566",
   "metadata": {},
   "outputs": [
    {
     "data": {
      "image/png": "[encoded data removed]",
      "text/plain": [
       "<Figure size 72x288 with 1 Axes>"
      ]
     },
     "metadata": {
      "needs_background": "light"
     },
     "output_type": "display_data"
    }
   ],
   "source": [
    "plt.figure(figsize=(1,4))\n",
    "colors=[\"skyblue\", \"salmon\"]\n",
    "a=sns.barplot(data=shared, x=\"linear_growth\", y=\"s__Prevotella sp900554835\", palette=colors)\n",
    "a.set(xlabel=None)\n",
    "plt.savefig(\"results/s__Prevotella sp900554835.png\", dpi=600,bbox_inches=\"tight\")\n"
   ]
  },
  {
   "cell_type": "code",
   "execution_count": 302,
   "id": "f6ef5760",
   "metadata": {},
   "outputs": [
    {
     "data": {
      "image/png": "[encoded data removed]",
      "text/plain": [
       "<Figure size 72x288 with 1 Axes>"
      ]
     },
     "metadata": {
      "needs_background": "light"
     },
     "output_type": "display_data"
    }
   ],
   "source": [
    "plt.figure(figsize=(1,4))\n",
    "colors=[\"skyblue\", \"salmon\"]\n",
    "a=sns.barplot(data=shared, x=\"linear_growth\", y=\"s__Megasphaera sp900540735\", palette=colors)\n",
    "a.set(xlabel=None)\n",
    "plt.savefig(\"results/s__Megasphaera sp900540735.png\", dpi=600,bbox_inches=\"tight\")\n"
   ]
  },
  {
   "cell_type": "code",
   "execution_count": 303,
   "id": "a1d0cc9a",
   "metadata": {},
   "outputs": [
    {
     "data": {
      "image/png": "[encoded data removed]",
      "text/plain": [
       "<Figure size 72x288 with 1 Axes>"
      ]
     },
     "metadata": {
      "needs_background": "light"
     },
     "output_type": "display_data"
    }
   ],
   "source": [
    "plt.figure(figsize=(1,4))\n",
    "colors=[\"skyblue\", \"salmon\"]\n",
    "a=sns.barplot(data=shared, x=\"linear_growth\", y=\"s__Parolsenella uli_A\", palette=colors)\n",
    "a.set(xlabel=None)\n",
    "plt.savefig(\"results/s__Parolsenella uli_A.png\", dpi=600,bbox_inches=\"tight\")\n"
   ]
  },
  {
   "cell_type": "code",
   "execution_count": 304,
   "id": "70d91c0c",
   "metadata": {},
   "outputs": [
    {
     "data": {
      "image/png": "[encoded data removed]",
      "text/plain": [
       "<Figure size 72x288 with 1 Axes>"
      ]
     },
     "metadata": {
      "needs_background": "light"
     },
     "output_type": "display_data"
    }
   ],
   "source": [
    "plt.figure(figsize=(1,4))\n",
    "colors=[\"skyblue\", \"salmon\"]\n",
    "a=sns.barplot(data=shared, x=\"linear_growth\", y=\"s__Enterocloster sp900541315\", palette=colors)\n",
    "a.set(xlabel=None)\n",
    "plt.savefig(\"results/s__Enterocloster sp900541315.png\", dpi=600,bbox_inches=\"tight\")\n"
   ]
  },
  {
   "cell_type": "code",
   "execution_count": 305,
   "id": "31ccd8a1",
   "metadata": {},
   "outputs": [
    {
     "data": {
      "image/png": "[encoded data removed]",
      "text/plain": [
       "<Figure size 72x288 with 1 Axes>"
      ]
     },
     "metadata": {
      "needs_background": "light"
     },
     "output_type": "display_data"
    }
   ],
   "source": [
    "plt.figure(figsize=(1,4))\n",
    "colors=[\"skyblue\", \"salmon\"]\n",
    "a=sns.barplot(data=shared, x=\"linear_growth\", y=\"s__Bacteroides caccae\", palette=colors)\n",
    "a.set(xlabel=None)\n",
    "plt.savefig(\"results/s__Bacteroides caccae.png\", dpi=600,bbox_inches=\"tight\")\n"
   ]
  },
  {
   "cell_type": "code",
   "execution_count": 306,
   "id": "988e5a03",
   "metadata": {},
   "outputs": [
    {
     "data": {
      "image/png": "[encoded data removed]",
      "text/plain": [
       "<Figure size 72x288 with 1 Axes>"
      ]
     },
     "metadata": {
      "needs_background": "light"
     },
     "output_type": "display_data"
    }
   ],
   "source": [
    "plt.figure(figsize=(1,4))\n",
    "colors=[\"skyblue\", \"salmon\"]\n",
    "a=sns.barplot(data=shared, x=\"linear_growth\", y=\"s__Hominiventricola filiformis\", palette=colors)\n",
    "a.set(xlabel=None)\n",
    "plt.savefig(\"results/s__Hominiventricola filiformis.png\", dpi=600,bbox_inches=\"tight\")\n"
   ]
  },
  {
   "cell_type": "code",
   "execution_count": 307,
   "id": "eb50df96",
   "metadata": {},
   "outputs": [
    {
     "data": {
      "image/png": "[encoded data removed]",
      "text/plain": [
       "<Figure size 72x288 with 1 Axes>"
      ]
     },
     "metadata": {
      "needs_background": "light"
     },
     "output_type": "display_data"
    }
   ],
   "source": [
    "plt.figure(figsize=(1,4))\n",
    "colors=[\"skyblue\", \"salmon\"]\n",
    "a=sns.barplot(data=shared, x=\"linear_growth\", y=\"s__Faecalibacterium sp900539885\", palette=colors)\n",
    "a.set(xlabel=None)\n",
    "plt.savefig(\"results/s__Faecalibacterium sp900539885.png\", dpi=600,bbox_inches=\"tight\")\n"
   ]
  },
  {
   "cell_type": "code",
   "execution_count": 308,
   "id": "1bd0e293",
   "metadata": {},
   "outputs": [
    {
     "data": {
      "image/png": "[encoded data removed]",
      "text/plain": [
       "<Figure size 72x288 with 1 Axes>"
      ]
     },
     "metadata": {
      "needs_background": "light"
     },
     "output_type": "display_data"
    }
   ],
   "source": [
    "plt.figure(figsize=(1,4))\n",
    "colors=[\"skyblue\", \"salmon\"]\n",
    "a=sns.barplot(data=shared, x=\"linear_growth\", y=\"s__Faecousia sp900549705\", palette=colors)\n",
    "a.set(xlabel=None)\n",
    "plt.savefig(\"results/s__Faecousia sp900549705.png\", dpi=600,bbox_inches=\"tight\")\n"
   ]
  },
  {
   "cell_type": "code",
   "execution_count": 309,
   "id": "2bc71765",
   "metadata": {},
   "outputs": [
    {
     "data": {
      "image/png": "[encoded data removed]",
      "text/plain": [
       "<Figure size 72x288 with 1 Axes>"
      ]
     },
     "metadata": {
      "needs_background": "light"
     },
     "output_type": "display_data"
    }
   ],
   "source": [
    "plt.figure(figsize=(1,4))\n",
    "colors=[\"skyblue\", \"salmon\"]\n",
    "a=sns.barplot(data=shared, x=\"linear_growth\", y=\"s__Prevotella sp900313215\", palette=colors)\n",
    "a.set(xlabel=None)\n",
    "plt.savefig(\"results/s__Prevotella sp900313215.png\", dpi=600,bbox_inches=\"tight\")\n"
   ]
  },
  {
   "cell_type": "code",
   "execution_count": 310,
   "id": "0d89ef83",
   "metadata": {},
   "outputs": [
    {
     "data": {
      "image/png": "[encoded data removed]",
      "text/plain": [
       "<Figure size 72x288 with 1 Axes>"
      ]
     },
     "metadata": {
      "needs_background": "light"
     },
     "output_type": "display_data"
    }
   ],
   "source": [
    "plt.figure(figsize=(1,4))\n",
    "colors=[\"skyblue\", \"salmon\"]\n",
    "a=sns.barplot(data=shared, x=\"linear_growth\", y=\"s__Alloprevotella sp900539625\", palette=colors)\n",
    "a.set(xlabel=None)\n",
    "plt.savefig(\"results/s__Alloprevotella sp900539625.png\", dpi=600,bbox_inches=\"tight\")\n"
   ]
  },
  {
   "cell_type": "code",
   "execution_count": 311,
   "id": "8c42ee08",
   "metadata": {},
   "outputs": [
    {
     "data": {
      "image/png": "[encoded data removed]",
      "text/plain": [
       "<Figure size 72x288 with 1 Axes>"
      ]
     },
     "metadata": {
      "needs_background": "light"
     },
     "output_type": "display_data"
    }
   ],
   "source": [
    "plt.figure(figsize=(1,4))\n",
    "colors=[\"skyblue\", \"salmon\"]\n",
    "a=sns.barplot(data=shared, x=\"linear_growth\", y=\"s__Alloprevotella sp900540885\", palette=colors)\n",
    "a.set(xlabel=None)\n",
    "plt.savefig(\"results/s__Alloprevotella sp900540885.png\", dpi=600,bbox_inches=\"tight\")\n"
   ]
  },
  {
   "cell_type": "code",
   "execution_count": 312,
   "id": "15d6e302",
   "metadata": {},
   "outputs": [
    {
     "data": {
      "image/png": "[encoded data removed]",
      "text/plain": [
       "<Figure size 72x288 with 1 Axes>"
      ]
     },
     "metadata": {
      "needs_background": "light"
     },
     "output_type": "display_data"
    }
   ],
   "source": [
    "plt.figure(figsize=(1,4))\n",
    "colors=[\"skyblue\", \"salmon\"]\n",
    "a=sns.barplot(data=shared, x=\"linear_growth\", y=\"s__Alloprevotella timonensis\", palette=colors)\n",
    "a.set(xlabel=None)\n",
    "plt.savefig(\"results/s__Alloprevotella timonensis.png\", dpi=600,bbox_inches=\"tight\")\n"
   ]
  },
  {
   "cell_type": "code",
   "execution_count": 313,
   "id": "818da035",
   "metadata": {},
   "outputs": [
    {
     "data": {
      "image/png": "[encoded data removed]",
      "text/plain": [
       "<Figure size 72x288 with 1 Axes>"
      ]
     },
     "metadata": {
      "needs_background": "light"
     },
     "output_type": "display_data"
    }
   ],
   "source": [
    "plt.figure(figsize=(1,4))\n",
    "colors=[\"skyblue\", \"salmon\"]\n",
    "a=sns.barplot(data=shared, x=\"linear_growth\", y=\"s__Faecalibacterium prausnitzii_D\", palette=colors)\n",
    "a.set(xlabel=None)\n",
    "plt.savefig(\"results/s__Faecalibacterium prausnitzii_D.png\", dpi=600,bbox_inches=\"tight\")\n"
   ]
  },
  {
   "cell_type": "code",
   "execution_count": 314,
   "id": "42be453f",
   "metadata": {},
   "outputs": [
    {
     "data": {
      "image/png": "[encoded data removed]",
      "text/plain": [
       "<Figure size 72x288 with 1 Axes>"
      ]
     },
     "metadata": {
      "needs_background": "light"
     },
     "output_type": "display_data"
    }
   ],
   "source": [
    "plt.figure(figsize=(1,4))\n",
    "colors=[\"skyblue\", \"salmon\"]\n",
    "a=sns.barplot(data=shared, x=\"linear_growth\", y=\"s__Prevotella copri_I\", palette=colors)\n",
    "a.set(xlabel=None)\n",
    "plt.savefig(\"results/s__Prevotella copri_I.png\", dpi=600,bbox_inches=\"tight\")\n"
   ]
  },
  {
   "cell_type": "code",
   "execution_count": 315,
   "id": "06fd0301",
   "metadata": {},
   "outputs": [
    {
     "data": {
      "image/png": "[encoded data removed]",
      "text/plain": [
       "<Figure size 72x288 with 1 Axes>"
      ]
     },
     "metadata": {
      "needs_background": "light"
     },
     "output_type": "display_data"
    }
   ],
   "source": [
    "plt.figure(figsize=(1,4))\n",
    "colors=[\"skyblue\", \"salmon\"]\n",
    "a=sns.barplot(data=shared, x=\"linear_growth\", y=\"s__Prevotella sp003447235\", palette=colors)\n",
    "a.set(xlabel=None)\n",
    "plt.savefig(\"results/s__Prevotella sp003447235.png\", dpi=600,bbox_inches=\"tight\")\n"
   ]
  },
  {
   "cell_type": "code",
   "execution_count": 316,
   "id": "b2089cbe",
   "metadata": {},
   "outputs": [
    {
     "data": {
      "image/png": "[encoded data removed]",
      "text/plain": [
       "<Figure size 72x288 with 1 Axes>"
      ]
     },
     "metadata": {
      "needs_background": "light"
     },
     "output_type": "display_data"
    }
   ],
   "source": [
    "plt.figure(figsize=(1,4))\n",
    "colors=[\"skyblue\", \"salmon\"]\n",
    "a=sns.barplot(data=shared, x=\"linear_growth\", y=\"s__Bifidobacterium adolescentis\", palette=colors)\n",
    "a.set(xlabel=None)\n",
    "plt.savefig(\"results/s__Bifidobacterium adolescentis.png\", dpi=600,bbox_inches=\"tight\")\n"
   ]
  },
  {
   "cell_type": "code",
   "execution_count": 317,
   "id": "8aae1a82",
   "metadata": {},
   "outputs": [
    {
     "data": {
      "image/png": "[encoded data removed]",
      "text/plain": [
       "<Figure size 72x288 with 1 Axes>"
      ]
     },
     "metadata": {
      "needs_background": "light"
     },
     "output_type": "display_data"
    }
   ],
   "source": [
    "plt.figure(figsize=(1,4))\n",
    "colors=[\"skyblue\", \"salmon\"]\n",
    "a=sns.barplot(data=shared, x=\"linear_growth\", y=\"s__Bacteroides thetaiotaomicron\", palette=colors)\n",
    "a.set(xlabel=None)\n",
    "plt.savefig(\"results/s__Bacteroides thetaiotaomicron.png\", dpi=600,bbox_inches=\"tight\")\n"
   ]
  },
  {
   "cell_type": "code",
   "execution_count": 318,
   "id": "4d0cbce8",
   "metadata": {},
   "outputs": [
    {
     "data": {
      "image/png": "[encoded data removed]",
      "text/plain": [
       "<Figure size 72x288 with 1 Axes>"
      ]
     },
     "metadata": {
      "needs_background": "light"
     },
     "output_type": "display_data"
    }
   ],
   "source": [
    "plt.figure(figsize=(1,4))\n",
    "colors=[\"skyblue\", \"salmon\"]\n",
    "a=sns.barplot(data=shared, x=\"linear_growth\", y=\"s__Senegalimassilia sp003474385\", palette=colors)\n",
    "a.set(xlabel=None)\n",
    "plt.savefig(\"results/s__Senegalimassilia sp003474385.png\", dpi=600,bbox_inches=\"tight\")\n"
   ]
  },
  {
   "cell_type": "code",
   "execution_count": 319,
   "id": "c26c02d3",
   "metadata": {},
   "outputs": [
    {
     "data": {
      "image/png": "[encoded data removed]",
      "text/plain": [
       "<Figure size 72x288 with 1 Axes>"
      ]
     },
     "metadata": {
      "needs_background": "light"
     },
     "output_type": "display_data"
    }
   ],
   "source": [
    "plt.figure(figsize=(1,4))\n",
    "colors=[\"skyblue\", \"salmon\"]\n",
    "a=sns.barplot(data=shared, x=\"linear_growth\", y=\"s__Agathobaculum butyriciproducens\", palette=colors)\n",
    "a.set(xlabel=None)\n",
    "plt.savefig(\"results/s__Agathobaculum butyriciproducens.png\", dpi=600,bbox_inches=\"tight\")\n"
   ]
  },
  {
   "cell_type": "code",
   "execution_count": 320,
   "id": "6c02dfeb",
   "metadata": {},
   "outputs": [
    {
     "data": {
      "image/png": "[encoded data removed]",
      "text/plain": [
       "<Figure size 72x288 with 1 Axes>"
      ]
     },
     "metadata": {
      "needs_background": "light"
     },
     "output_type": "display_data"
    }
   ],
   "source": [
    "plt.figure(figsize=(1,4))\n",
    "colors=[\"skyblue\", \"salmon\"]\n",
    "a=sns.barplot(data=shared, x=\"linear_growth\", y=\"s__Prevotella stercorea\", palette=colors)\n",
    "a.set(xlabel=None)\n",
    "plt.savefig(\"results/s__Prevotella stercorea.png\", dpi=600,bbox_inches=\"tight\")\n"
   ]
  },
  {
   "cell_type": "code",
   "execution_count": 321,
   "id": "0fc1d41c",
   "metadata": {},
   "outputs": [
    {
     "data": {
      "image/png": "[encoded data removed]",
      "text/plain": [
       "<Figure size 72x288 with 1 Axes>"
      ]
     },
     "metadata": {
      "needs_background": "light"
     },
     "output_type": "display_data"
    }
   ],
   "source": [
    "plt.figure(figsize=(1,4))\n",
    "colors=[\"skyblue\", \"salmon\"]\n",
    "a=sns.barplot(data=shared, x=\"linear_growth\", y=\"s__Bacteroides uniformis\", palette=colors)\n",
    "a.set(xlabel=None)\n",
    "plt.savefig(\"results/s__Bacteroides uniformis.png\", dpi=600,bbox_inches=\"tight\")\n"
   ]
  },
  {
   "cell_type": "code",
   "execution_count": 322,
   "id": "b9733f60",
   "metadata": {},
   "outputs": [
    {
     "data": {
      "image/png": "[encoded data removed]",
      "text/plain": [
       "<Figure size 72x288 with 1 Axes>"
      ]
     },
     "metadata": {
      "needs_background": "light"
     },
     "output_type": "display_data"
    }
   ],
   "source": [
    "plt.figure(figsize=(1,4))\n",
    "colors=[\"skyblue\", \"salmon\"]\n",
    "a=sns.barplot(data=shared, x=\"linear_growth\", y=\"s__Prevotella merdae\", palette=colors)\n",
    "a.set(xlabel=None)\n",
    "plt.savefig(\"results/s__Prevotella merdae.png\", dpi=600,bbox_inches=\"tight\")\n"
   ]
  },
  {
   "cell_type": "code",
   "execution_count": 323,
   "id": "c1a2d4da",
   "metadata": {},
   "outputs": [
    {
     "data": {
      "image/png": "[encoded data removed]",
      "text/plain": [
       "<Figure size 72x288 with 1 Axes>"
      ]
     },
     "metadata": {
      "needs_background": "light"
     },
     "output_type": "display_data"
    }
   ],
   "source": [
    "plt.figure(figsize=(1,4))\n",
    "colors=[\"skyblue\", \"salmon\"]\n",
    "a=sns.barplot(data=shared, x=\"linear_growth\", y=\"s__CAG-510 sp000434615\", palette=colors)\n",
    "a.set(xlabel=None)\n",
    "plt.savefig(\"results/s__CAG-510 sp000434615.png\", dpi=600,bbox_inches=\"tight\")\n"
   ]
  },
  {
   "cell_type": "code",
   "execution_count": 324,
   "id": "092a3088",
   "metadata": {},
   "outputs": [
    {
     "data": {
      "image/png": "[encoded data removed]",
      "text/plain": [
       "<Figure size 72x288 with 1 Axes>"
      ]
     },
     "metadata": {
      "needs_background": "light"
     },
     "output_type": "display_data"
    }
   ],
   "source": [
    "plt.figure(figsize=(1,4))\n",
    "colors=[\"skyblue\", \"salmon\"]\n",
    "a=sns.barplot(data=shared, x=\"linear_growth\", y=\"s__Selenomonas_A sp900769615\", palette=colors)\n",
    "a.set(xlabel=None)\n",
    "plt.savefig(\"results/s__Selenomonas_A sp900769615.png\", dpi=600,bbox_inches=\"tight\")\n"
   ]
  },
  {
   "cell_type": "code",
   "execution_count": 325,
   "id": "2d2c963c",
   "metadata": {},
   "outputs": [
    {
     "data": {
      "image/png": "[encoded data removed]",
      "text/plain": [
       "<Figure size 72x288 with 1 Axes>"
      ]
     },
     "metadata": {
      "needs_background": "light"
     },
     "output_type": "display_data"
    }
   ],
   "source": [
    "plt.figure(figsize=(1,4))\n",
    "colors=[\"skyblue\", \"salmon\"]\n",
    "a=sns.barplot(data=shared, x=\"linear_growth\", y=\"s__Streptococcus salivarius_D\", palette=colors)\n",
    "a.set(xlabel=None)\n",
    "plt.savefig(\"results/s__Streptococcus salivarius_D.png\", dpi=600,bbox_inches=\"tight\")\n"
   ]
  },
  {
   "cell_type": "code",
   "execution_count": 326,
   "id": "cf7630ca",
   "metadata": {},
   "outputs": [
    {
     "data": {
      "image/png": "[encoded data removed]",
      "text/plain": [
       "<Figure size 72x288 with 1 Axes>"
      ]
     },
     "metadata": {
      "needs_background": "light"
     },
     "output_type": "display_data"
    }
   ],
   "source": [
    "plt.figure(figsize=(1,4))\n",
    "colors=[\"skyblue\", \"salmon\"]\n",
    "a=sns.barplot(data=shared, x=\"linear_growth\", y=\"s__CAG-95 sp900066375\", palette=colors)\n",
    "a.set(xlabel=None)\n",
    "plt.savefig(\"results/s__CAG-95 sp900066375.png\", dpi=600,bbox_inches=\"tight\")\n"
   ]
  },
  {
   "cell_type": "code",
   "execution_count": null,
   "id": "9f26079a",
   "metadata": {},
   "outputs": [],
   "source": []
  },
  {
   "cell_type": "code",
   "execution_count": 327,
   "id": "90e90d5e",
   "metadata": {},
   "outputs": [
    {
     "name": "stdout",
     "output_type": "stream",
     "text": [
      "ML_taxa_PAV__LAZ.ipynb\r\n",
      "ML_taxa_PAV__linear_growth.ipynb\r\n",
      "ML_taxa_relabun__LAZ.ipynb\r\n",
      "ML_taxa_relabun__linear_growth.ipynb\r\n",
      "ML_taxa_seqwell.ipynb\r\n",
      "ML_venn_results.ipynb\r\n",
      "r100M_PAV_216962_feature-table.biom\r\n",
      "r100M_PAV_216962_feature-table_taxa.txt\r\n",
      "r100M_PAV_216962_taxa_trans.csv\r\n",
      "r100M_metadata.csv\r\n",
      "r100M_relabund_216959_feature-table.biom\r\n",
      "r100M_relabund_216959_taxa.txt\r\n",
      "r100M_relabund_216959_taxa_trans.csv\r\n",
      "\u001b[34mresults\u001b[m\u001b[m/\r\n"
     ]
    }
   ],
   "source": [
    "# perform figures for functional"
   ]
  },
  {
   "cell_type": "code",
   "execution_count": null,
   "id": "c13c38f5",
   "metadata": {},
   "outputs": [],
   "source": []
  },
  {
   "cell_type": "code",
   "execution_count": null,
   "id": "05a2f6c3",
   "metadata": {},
   "outputs": [],
   "source": []
  },
  {
   "cell_type": "code",
   "execution_count": null,
   "id": "8652520a",
   "metadata": {},
   "outputs": [],
   "source": []
  },
  {
   "cell_type": "code",
   "execution_count": null,
   "id": "8c62f943",
   "metadata": {},
   "outputs": [],
   "source": []
  },
  {
   "cell_type": "code",
   "execution_count": null,
   "id": "f3f3dac4",
   "metadata": {},
   "outputs": [],
   "source": []
  },
  {
   "cell_type": "code",
   "execution_count": null,
   "id": "430114ee",
   "metadata": {},
   "outputs": [],
   "source": []
  },
  {
   "cell_type": "code",
   "execution_count": null,
   "id": "9121a7db",
   "metadata": {},
   "outputs": [],
   "source": []
  },
  {
   "cell_type": "code",
   "execution_count": null,
   "id": "efbd152c",
   "metadata": {},
   "outputs": [],
   "source": []
  }
 ],
 "metadata": {
  "kernelspec": {
   "display_name": "Python 3",
   "language": "python",
   "name": "python3"
  },
  "language_info": {
   "codemirror_mode": {
    "name": "ipython",
    "version": 3
   },
   "file_extension": ".py",
   "mimetype": "text/x-python",
   "name": "python",
   "nbconvert_exporter": "python",
   "pygments_lexer": "ipython3",
   "version": "3.6.13"
  }
 },
 "nbformat": 4,
 "nbformat_minor": 5
}
